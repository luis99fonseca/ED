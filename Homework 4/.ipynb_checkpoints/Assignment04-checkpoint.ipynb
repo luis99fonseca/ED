{
 "cells": [
  {
   "cell_type": "code",
   "execution_count": 1,
   "metadata": {},
   "outputs": [],
   "source": [
    "#numeric: pandas and numpy\n",
    "import numpy as np\n",
    "import pandas as pd\n",
    "# graphics\n",
    "%matplotlib inline \n",
    "import matplotlib.pyplot as plt \n",
    "import matplotlib.gridspec as gridspec \n",
    "\n",
    "from sklearn import linear_model, svm\n",
    "from sklearn.model_selection import train_test_split\n",
    "import time\n",
    "from sklearn.model_selection import cross_validate, GridSearchCV\n",
    "\n",
    "from sklearn.model_selection import StratifiedKFold\n",
    "from sklearn.preprocessing import StandardScaler\n",
    "from sklearn.metrics import confusion_matrix"
   ]
  },
  {
   "cell_type": "code",
   "execution_count": 2,
   "metadata": {},
   "outputs": [],
   "source": [
    "from sklearn.datasets import make_blobs, make_circles, make_moons, make_circles\n",
    "\n",
    "X_blobs, y_blobs = make_blobs(n_samples=1000, centers=2, n_features=2, random_state=None)\n",
    "\n",
    "X_moon,y_moon= make_moons(n_samples=1000, shuffle=True, noise=None, random_state=None)\n",
    "\n",
    "X_cir, y_cir= make_circles(n_samples=1000, shuffle=True, noise=None, random_state=None, factor=0.4)"
   ]
  },
  {
   "cell_type": "code",
   "execution_count": 3,
   "metadata": {},
   "outputs": [
    {
     "data": {
      "text/plain": [
       "<matplotlib.collections.PathCollection at 0x7ff1c1068a50>"
      ]
     },
     "execution_count": 3,
     "metadata": {},
     "output_type": "execute_result"
    },
    {
     "data": {
      "image/png": "[encoded data removed]",
      "text/plain": [
       "<Figure size 1080x720 with 3 Axes>"
      ]
     },
     "metadata": {
      "needs_background": "light"
     },
     "output_type": "display_data"
    }
   ],
   "source": [
    "fig, (ax1, ax2, ax3) = plt.subplots(1, 3, figsize=(15,10))\n",
    "\n",
    "ax1.scatter(X_blobs[y_blobs==0,0],X_blobs[y_blobs==0,1],marker='s',color='r',label='0' )\n",
    "ax1.scatter(X_blobs[y_blobs==1,0],X_blobs[y_blobs==1,1],marker='s',color='g',label='0' )\n",
    "#ax1.set_aspect('equal')\n",
    "ax2.scatter(X_moon[y_moon==0,0],X_moon[y_moon==0,1],marker='s',color='r',label='0' )\n",
    "ax2.scatter(X_moon[y_moon==1,0],X_moon[y_moon==1,1],marker='s',color='g',label='0' )\n",
    "\n",
    "ax3.scatter(X_cir[y_cir==0,0],X_cir[y_cir==0,1],marker='s',color='r',label='0' )\n",
    "ax3.scatter(X_cir[y_cir==1,0],X_cir[y_cir==1,1],marker='s',color='g',label='0' )"
   ]
  },
  {
   "cell_type": "code",
   "execution_count": 4,
   "metadata": {},
   "outputs": [],
   "source": [
    "x_train, x_test, y_train, y_test = train_test_split(X_blobs,y_blobs, test_size=0.2, random_state=44, stratify=y_blobs)"
   ]
  },
  {
   "cell_type": "code",
   "execution_count": 5,
   "metadata": {},
   "outputs": [
    {
     "name": "stdout",
     "output_type": "stream",
     "text": [
      "Training set feature matrix shape: (800, 2)\n",
      "Training set classification matrix shape: (800,)\n",
      "Testing set feature matrix shape: (200, 2)\n",
      "Testing set classification matrix shape: (200,)\n",
      "------------------------------------------------\n"
     ]
    }
   ],
   "source": [
    "print(\"Training set feature matrix shape: \" + str(x_train.shape))\n",
    "print(\"Training set classification matrix shape: \" + str(y_train.shape))\n",
    "print(\"Testing set feature matrix shape: \" + str(x_test.shape))\n",
    "print(\"Testing set classification matrix shape: \" + str(y_test.shape))\n",
    "print(\"------------------------------------------------\")"
   ]
  },
  {
   "cell_type": "code",
   "execution_count": 6,
   "metadata": {},
   "outputs": [
    {
     "name": "stdout",
     "output_type": "stream",
     "text": [
      "{0: 400, 1: 400}\n"
     ]
    }
   ],
   "source": [
    "unique, counts = np.unique(y_train, return_counts=True)\n",
    "print(dict(zip(unique, counts)))"
   ]
  },
  {
   "cell_type": "markdown",
   "metadata": {},
   "source": [
    "## SVM (Linear) vs SVM (RBF)"
   ]
  },
  {
   "cell_type": "code",
   "execution_count": 7,
   "metadata": {},
   "outputs": [],
   "source": [
    "def compare_matrices(correct_values, model1_values, model2_values):\n",
    "    model1_correct = np.array(correct_values == model1_values)\n",
    "    model2_correct = np.array(correct_values == model2_values)\n",
    "    res = np.zeros((2,2))\n",
    "    res[0,0] = np.sum(np.logical_and(model1_correct, model2_correct))\n",
    "    res[0,1] = np.sum(np.logical_and(model1_correct, np.logical_not(model2_correct)))\n",
    "    res[1,0] = np.sum(np.logical_and(np.logical_not(model1_correct), model2_correct))\n",
    "    res[1,1] = np.sum(np.logical_and(np.logical_not(model1_correct), np.logical_not(model2_correct)))\n",
    "    \n",
    "    return res"
   ]
  },
  {
   "cell_type": "markdown",
   "metadata": {},
   "source": [
    "### Blobs"
   ]
  },
  {
   "cell_type": "code",
   "execution_count": 8,
   "metadata": {},
   "outputs": [],
   "source": [
    "svmRBF = svm.SVC(kernel='rbf')\n",
    "svmLinear = svm.SVC(kernel='linear')"
   ]
  },
  {
   "cell_type": "code",
   "execution_count": 9,
   "metadata": {},
   "outputs": [
    {
     "name": "stdout",
     "output_type": "stream",
     "text": [
      "---------------- Blobs ----------------\n",
      "Conf Matrix RBF\n",
      " [[172   0]\n",
      " [  0 162]]\n",
      "Conf Matrix Linear\n",
      " [[150  22]\n",
      " [ 23 139]]\n",
      "Conf Matrix RBF\n",
      " [[173   0]\n",
      " [  0 161]]\n",
      "Conf Matrix Linear\n",
      " [[151  22]\n",
      " [ 15 146]]\n",
      "Conf Matrix RBF\n",
      " [[155   0]\n",
      " [  0 177]]\n",
      "Conf Matrix Linear\n",
      " [[140  15]\n",
      " [ 21 156]]\n",
      "---------------- Moon ----------------\n",
      "Conf Matrix RBF\n",
      " [[167   0]\n",
      " [  0 167]]\n",
      "Conf Matrix Linear\n",
      " [[147  20]\n",
      " [ 23 144]]\n",
      "Conf Matrix RBF\n",
      " [[167   0]\n",
      " [  0 167]]\n",
      "Conf Matrix Linear\n",
      " [[145  22]\n",
      " [ 17 150]]\n",
      "Conf Matrix RBF\n",
      " [[166   0]\n",
      " [  0 166]]\n",
      "Conf Matrix Linear\n",
      " [[150  16]\n",
      " [ 18 148]]\n",
      "---------------- Circle ----------------\n",
      "Conf Matrix RBF\n",
      " [[172   0]\n",
      " [  0 162]]\n",
      "Conf Matrix Linear\n",
      " [[151  21]\n",
      " [ 19 143]]\n",
      "Conf Matrix RBF\n",
      " [[169   0]\n",
      " [  0 165]]\n",
      "Conf Matrix Linear\n",
      " [[150  19]\n",
      " [ 18 147]]\n",
      "Conf Matrix RBF\n",
      " [[159   0]\n",
      " [  0 173]]\n",
      "Conf Matrix Linear\n",
      " [[142  17]\n",
      " [ 20 153]]\n"
     ]
    }
   ],
   "source": [
    "\n",
    "\n",
    "k_fold = StratifiedKFold(n_splits=3)\n",
    "X = X_moon\n",
    "y = y_moon\n",
    "\n",
    "dict = {\"Blobs\": (X_blobs, y_blobs), \"Moon\": (X_moon, y_moon), \"Circle\": (X_cir, y_cir)}\n",
    "\n",
    "sections = []\n",
    "for k,v in dict.items():\n",
    "    sub_section = []\n",
    "    print(\"----------------\", k, \"----------------\")\n",
    "    for train_indices, test_indices in k_fold.split(v[0],v[1]):\n",
    "        \n",
    "        scaler = StandardScaler() \n",
    "        X_train=X[train_indices]\n",
    "\n",
    "        Xs=scaler.fit_transform(X_train)\n",
    "\n",
    "        Xtest=scaler.transform(X[test_indices])\n",
    "\n",
    "        svmRBF.fit(Xs,y[train_indices])\n",
    "        svmLinear.fit(Xs, y[train_indices])\n",
    "\n",
    "        y_pred_rbf=svmRBF.predict(Xtest)\n",
    "        y_pred_lin=svmLinear.predict(Xtest)\n",
    "        print(\"Conf Matrix RBF\\n\", confusion_matrix(y[test_indices],y_pred_rbf))\n",
    "        print(\"Conf Matrix Linear\\n\", confusion_matrix(y[test_indices],y_pred_lin))\n",
    "        sub_section.append(compare_matrices(y[test_indices], y_pred_rbf, y_pred_lin))\n",
    "    sections.append(sub_section)\n",
    "    "
   ]
  },
  {
   "cell_type": "code",
   "execution_count": 13,
   "metadata": {},
   "outputs": [
    {
     "name": "stdout",
     "output_type": "stream",
     "text": [
      "(hand-made) chi-squared:  43.022222222222226\n",
      "(hand-made) chi-squared:  35.027027027027025\n",
      "(hand-made) chi-squared:  34.02777777777778\n",
      "(hand-made) chi-squared:  41.02325581395349\n",
      "(hand-made) chi-squared:  37.02564102564103\n",
      "(hand-made) chi-squared:  32.029411764705884\n",
      "(hand-made) chi-squared:  38.025\n",
      "(hand-made) chi-squared:  35.027027027027025\n",
      "(hand-made) chi-squared:  35.027027027027025\n"
     ]
    }
   ],
   "source": [
    "#from mlxtend.evaluate import mcnemar\n",
    "for ds in range(len(sections)):\n",
    "    for model in range(len(sections[ds])):\n",
    "        contingency_table = sections[ds][model]\n",
    "        print(\"(hand-made) chi-squared: \", ((np.abs(contingency_table[0,1] - contingency_table[1,0]) - 1)**2)/(contingency_table[0,1] + contingency_table[1,0]))\n",
    " #       chi2, p = mcnemar(ary=ola, corrected=True)\n",
    "  #      print('chi-squared:', chi2)\n",
    "   #     print('p-value:', p) "
   ]
  },
  {
   "cell_type": "code",
   "execution_count": 28,
   "metadata": {},
   "outputs": [
    {
     "name": "stdout",
     "output_type": "stream",
     "text": [
      "chi-squared: 35.027027027027025\n",
      "p-value: 3.2516061726496955e-09\n"
     ]
    }
   ],
   "source": [
    "\n",
    "\n",
    "chi2, p = mcnemar(ary=ola, corrected=True)\n",
    "print('chi-squared:', chi2)\n",
    "print('p-value:', p) "
   ]
  },
  {
   "cell_type": "markdown",
   "metadata": {},
   "source": [
    "## Percepton vs Multilayer feedforward neural network"
   ]
  },
  {
   "cell_type": "code",
   "execution_count": 15,
   "metadata": {},
   "outputs": [],
   "source": [
    "from sklearn.linear_model import Perceptron\n",
    "from sklearn.neural_network import MLPClassifier"
   ]
  },
  {
   "cell_type": "code",
   "execution_count": 18,
   "metadata": {},
   "outputs": [
    {
     "name": "stdout",
     "output_type": "stream",
     "text": [
      "train accuracy: 0.96875 \n",
      "test accuracy: 0.985 \n"
     ]
    }
   ],
   "source": [
    "ppn=Perceptron(penalty=None, alpha=0.0001, fit_intercept=True, max_iter=20, tol=None, \n",
    "               eta0=0.1, n_jobs=1, random_state=0, class_weight=None, warm_start=False)\n",
    "\n",
    "ppn.fit(x_train, y_train)\n",
    "\n",
    "print(\"train accuracy: {} \".format(ppn.score(x_train, y_train)))\n",
    "print(\"test accuracy: {} \".format(ppn.score(x_test, y_test)))\n"
   ]
  },
  {
   "cell_type": "code",
   "execution_count": 19,
   "metadata": {},
   "outputs": [
    {
     "name": "stdout",
     "output_type": "stream",
     "text": [
      "train accuracy: 0.995 \n",
      "test accuracy: 0.995 \n"
     ]
    }
   ],
   "source": [
    "ppnML = MLPClassifier(hidden_layer_sizes=(256,128,64,32),activation=\"relu\",random_state=1)\n",
    "\n",
    "ppnML.fit(x_train, y_train)\n",
    "\n",
    "print(\"train accuracy: {} \".format(ppnML.score(x_train, y_train)))\n",
    "print(\"test accuracy: {} \".format(ppnML.score(x_test, y_test)))\n"
   ]
  },
  {
   "cell_type": "code",
   "execution_count": 20,
   "metadata": {},
   "outputs": [
    {
     "name": "stdout",
     "output_type": "stream",
     "text": [
      "---------------- Blobs ----------------\n",
      "Conf Matrix ppn\n",
      " [[136  36]\n",
      " [ 40 122]]\n",
      "Conf Matrix ppnML\n",
      " [[172   0]\n",
      " [  0 162]]\n",
      "Conf Matrix ppn\n",
      " [[167   6]\n",
      " [ 44 117]]\n",
      "Conf Matrix ppnML\n",
      " [[173   0]\n",
      " [  0 161]]\n",
      "Conf Matrix ppn\n",
      " [[135  20]\n",
      " [ 21 156]]\n",
      "Conf Matrix ppnML\n",
      " [[155   0]\n",
      " [  0 177]]\n",
      "---------------- Moon ----------------\n",
      "Conf Matrix ppn\n",
      " [[167   0]\n",
      " [ 66 101]]\n",
      "Conf Matrix ppnML\n",
      " [[167   0]\n",
      " [  0 167]]\n",
      "Conf Matrix ppn\n",
      " [[167   0]\n",
      " [167   0]]\n",
      "Conf Matrix ppnML\n",
      " [[167   0]\n",
      " [  0 167]]\n",
      "Conf Matrix ppn\n",
      " [[146  20]\n",
      " [ 19 147]]\n",
      "Conf Matrix ppnML\n",
      " [[166   0]\n",
      " [  0 166]]\n",
      "---------------- Circle ----------------\n",
      "Conf Matrix ppn\n",
      " [[172   0]\n",
      " [162   0]]\n",
      "Conf Matrix ppnML\n",
      " [[172   0]\n",
      " [  0 162]]\n",
      "Conf Matrix ppn\n",
      " [[148  21]\n",
      " [ 22 143]]\n",
      "Conf Matrix ppnML\n",
      " [[169   0]\n",
      " [  0 165]]\n",
      "Conf Matrix ppn\n",
      " [[137  22]\n",
      " [ 25 148]]\n",
      "Conf Matrix ppnML\n",
      " [[159   0]\n",
      " [  0 173]]\n"
     ]
    }
   ],
   "source": [
    "sections = []\n",
    "for k,v in dict.items():\n",
    "    sub_section = []\n",
    "    print(\"----------------\", k, \"----------------\")\n",
    "    for train_indices, test_indices in k_fold.split(v[0],v[1]):\n",
    "        scaler = StandardScaler() \n",
    "        X_train=X[train_indices]\n",
    "\n",
    "        Xs=scaler.fit_transform(X_train)\n",
    "\n",
    "        Xtest=scaler.transform(X[test_indices])\n",
    "\n",
    "        ppn.fit(Xs,y[train_indices])\n",
    "        ppnML.fit(Xs, y[train_indices])\n",
    "\n",
    "        y_pred_ppn=ppn.predict(Xtest)\n",
    "        y_pred_ppnML=ppnML.predict(Xtest)\n",
    "\n",
    "        print(\"Conf Matrix ppn\\n\", confusion_matrix(y[test_indices],y_pred_ppn))\n",
    "        print(\"Conf Matrix ppnML\\n\", confusion_matrix(y[test_indices],y_pred_ppnML))\n",
    "        sub_section.append(compare_matrices(y[test_indices], y_pred_ppn, y_pred_ppnML))\n",
    "    sections.append(sub_section)\n",
    "    "
   ]
  },
  {
   "cell_type": "code",
   "execution_count": 21,
   "metadata": {},
   "outputs": [
    {
     "name": "stdout",
     "output_type": "stream",
     "text": [
      "(hand-made) chi-squared:  74.01315789473684\n",
      "(hand-made) chi-squared:  48.02\n",
      "(hand-made) chi-squared:  39.02439024390244\n",
      "(hand-made) chi-squared:  64.01515151515152\n",
      "(hand-made) chi-squared:  165.00598802395209\n",
      "(hand-made) chi-squared:  37.02564102564103\n",
      "(hand-made) chi-squared:  160.00617283950618\n",
      "(hand-made) chi-squared:  41.02325581395349\n",
      "(hand-made) chi-squared:  45.02127659574468\n"
     ]
    }
   ],
   "source": [
    "for ds in range(len(sections)):\n",
    "    for model in range(len(sections[ds])):\n",
    "        contingency_table = sections[ds][model]\n",
    "        print(\"(hand-made) chi-squared: \", ((np.abs(contingency_table[0,1] - contingency_table[1,0]) - 1)**2)/(contingency_table[0,1] + contingency_table[1,0]))\n",
    " #       chi2, p = mcnemar(ary=ola, corrected=True)\n",
    "  #      print('chi-squared:', chi2)\n",
    "   #     print('p-value:', p) "
   ]
  },
  {
   "cell_type": "code",
   "execution_count": 33,
   "metadata": {},
   "outputs": [
    {
     "name": "stdout",
     "output_type": "stream",
     "text": [
      "chi-squared: 50.01923076923077\n",
      "p-value: 1.5224653042149069e-12\n"
     ]
    }
   ],
   "source": [
    "ola = sections_ppn[0]\n",
    "chi2, p = mcnemar(ary=ola, corrected=True)\n",
    "print('chi-squared:', chi2)\n",
    "print('p-value:', p) "
   ]
  },
  {
   "cell_type": "code",
   "execution_count": null,
   "metadata": {},
   "outputs": [],
   "source": []
  }
 ],
 "metadata": {
  "kernelspec": {
   "display_name": "Python 3",
   "language": "python",
   "name": "python3"
  },
  "language_info": {
   "codemirror_mode": {
    "name": "ipython",
    "version": 3
   },
   "file_extension": ".py",
   "mimetype": "text/x-python",
   "name": "python",
   "nbconvert_exporter": "python",
   "pygments_lexer": "ipython3",
   "version": "3.7.4"
  }
 },
 "nbformat": 4,
 "nbformat_minor": 2
}
