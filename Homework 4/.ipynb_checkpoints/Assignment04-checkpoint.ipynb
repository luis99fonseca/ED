{
 "cells": [
  {
   "cell_type": "code",
   "execution_count": 1,
   "metadata": {},
   "outputs": [],
   "source": [
    "#numeric: pandas and numpy\n",
    "import numpy as np\n",
    "import pandas as pd\n",
    "# graphics\n",
    "%matplotlib inline \n",
    "import matplotlib.pyplot as plt \n",
    "import matplotlib.gridspec as gridspec "
   ]
  },
  {
   "cell_type": "code",
   "execution_count": 2,
   "metadata": {},
   "outputs": [],
   "source": [
    "from sklearn.datasets import make_blobs, make_circles, make_moons, make_circles\n",
    "\n",
    "X_blobs, y_blobs = make_blobs(n_samples=1000, centers=2, n_features=2, random_state=None)\n",
    "\n",
    "X_moon,y_moon= make_moons(n_samples=1000, shuffle=True, noise=None, random_state=None)\n",
    "\n",
    "X_cir, y_cir= make_circles(n_samples=1000, shuffle=True, noise=None, random_state=None, factor=0.4)"
   ]
  },
  {
   "cell_type": "code",
   "execution_count": 3,
   "metadata": {},
   "outputs": [
    {
     "data": {
      "text/plain": [
       "<matplotlib.collections.PathCollection at 0x7f5f368f7b90>"
      ]
     },
     "execution_count": 3,
     "metadata": {},
     "output_type": "execute_result"
    },
    {
     "data": {
      "image/png": "[encoded data removed]",
      "text/plain": [
       "<Figure size 432x288 with 3 Axes>"
      ]
     },
     "metadata": {
      "needs_background": "light"
     },
     "output_type": "display_data"
    }
   ],
   "source": [
    "fig, (ax1, ax2, ax3) = plt.subplots(1, 3)\n",
    "\n",
    "ax1.scatter(X_blobs[y_blobs==0,0],X_blobs[y_blobs==0,1],marker='s',color='r',label='0' )\n",
    "ax1.scatter(X_blobs[y_blobs==1,0],X_blobs[y_blobs==1,1],marker='s',color='g',label='0' )\n",
    "#ax1.set_aspect('equal')\n",
    "ax2.scatter(X_moon[y_moon==0,0],X_moon[y_moon==0,1],marker='s',color='r',label='0' )\n",
    "ax2.scatter(X_moon[y_moon==1,0],X_moon[y_moon==1,1],marker='s',color='g',label='0' )\n",
    "\n",
    "ax3.scatter(X_cir[y_cir==0,0],X_cir[y_cir==0,1],marker='s',color='r',label='0' )\n",
    "ax3.scatter(X_cir[y_cir==1,0],X_cir[y_cir==1,1],marker='s',color='g',label='0' )"
   ]
  },
  {
   "cell_type": "code",
   "execution_count": 24,
   "metadata": {},
   "outputs": [],
   "source": [
    "from sklearn import linear_model, svm\n",
    "from sklearn.model_selection import train_test_split\n",
    "import time\n",
    "from sklearn.model_selection import cross_validate, GridSearchCV"
   ]
  },
  {
   "cell_type": "code",
   "execution_count": 25,
   "metadata": {},
   "outputs": [],
   "source": [
    "x_train, x_test, y_train, y_test = train_test_split(X_blobs,y_blobs, test_size=0.2, random_state=44, stratify=y_blobs)"
   ]
  },
  {
   "cell_type": "code",
   "execution_count": 26,
   "metadata": {},
   "outputs": [
    {
     "name": "stdout",
     "output_type": "stream",
     "text": [
      "Training set feature matrix shape: (800, 2)\n",
      "Training set classification matrix shape: (800,)\n",
      "Testing set feature matrix shape: (200, 2)\n",
      "Testing set classification matrix shape: (200,)\n",
      "------------------------------------------------\n"
     ]
    }
   ],
   "source": [
    "print(\"Training set feature matrix shape: \" + str(x_train.shape))\n",
    "print(\"Training set classification matrix shape: \" + str(y_train.shape))\n",
    "print(\"Testing set feature matrix shape: \" + str(x_test.shape))\n",
    "print(\"Testing set classification matrix shape: \" + str(y_test.shape))\n",
    "print(\"------------------------------------------------\")"
   ]
  },
  {
   "cell_type": "code",
   "execution_count": 27,
   "metadata": {},
   "outputs": [
    {
     "name": "stdout",
     "output_type": "stream",
     "text": [
      "{0: 400, 1: 400}\n"
     ]
    }
   ],
   "source": [
    "#print(x_train[0])\n",
    "#print(y_train)\n",
    "unique, counts = np.unique(y_train, return_counts=True)\n",
    "print(dict(zip(unique, counts)))"
   ]
  },
  {
   "cell_type": "code",
   "execution_count": 32,
   "metadata": {},
   "outputs": [
    {
     "name": "stdout",
     "output_type": "stream",
     "text": [
      "PARAMS: -------- c: 0.01  - k: linear\n",
      "train accuracy: 0.8825 \n",
      "test accuracy: 0.855 \n",
      "\n",
      "PARAMS: -------- c: 0.03  - k: linear\n",
      "train accuracy: 0.8825 \n",
      "test accuracy: 0.855 \n",
      "\n",
      "PARAMS: -------- c: 0.1  - k: linear\n",
      "train accuracy: 0.8825 \n",
      "test accuracy: 0.86 \n",
      "\n",
      "PARAMS: -------- c: 0.3  - k: linear\n",
      "train accuracy: 0.885 \n",
      "test accuracy: 0.855 \n",
      "\n",
      "PARAMS: -------- c: 1  - k: linear\n",
      "train accuracy: 0.8825 \n",
      "test accuracy: 0.855 \n",
      "\n",
      "PARAMS: -------- c: 3  - k: linear\n",
      "train accuracy: 0.8825 \n",
      "test accuracy: 0.855 \n",
      "\n"
     ]
    },
    {
     "name": "stderr",
     "output_type": "stream",
     "text": [
      "/home/luis/anaconda3/lib/python3.7/site-packages/sklearn/model_selection/_split.py:1978: FutureWarning: The default value of cv will change from 3 to 5 in version 0.22. Specify it explicitly to silence this warning.\n",
      "  warnings.warn(CV_WARNING, FutureWarning)\n",
      "/home/luis/anaconda3/lib/python3.7/site-packages/sklearn/model_selection/_split.py:1978: FutureWarning: The default value of cv will change from 3 to 5 in version 0.22. Specify it explicitly to silence this warning.\n",
      "  warnings.warn(CV_WARNING, FutureWarning)\n",
      "/home/luis/anaconda3/lib/python3.7/site-packages/sklearn/model_selection/_split.py:1978: FutureWarning: The default value of cv will change from 3 to 5 in version 0.22. Specify it explicitly to silence this warning.\n",
      "  warnings.warn(CV_WARNING, FutureWarning)\n",
      "/home/luis/anaconda3/lib/python3.7/site-packages/sklearn/model_selection/_split.py:1978: FutureWarning: The default value of cv will change from 3 to 5 in version 0.22. Specify it explicitly to silence this warning.\n",
      "  warnings.warn(CV_WARNING, FutureWarning)\n",
      "/home/luis/anaconda3/lib/python3.7/site-packages/sklearn/model_selection/_split.py:1978: FutureWarning: The default value of cv will change from 3 to 5 in version 0.22. Specify it explicitly to silence this warning.\n",
      "  warnings.warn(CV_WARNING, FutureWarning)\n",
      "/home/luis/anaconda3/lib/python3.7/site-packages/sklearn/model_selection/_split.py:1978: FutureWarning: The default value of cv will change from 3 to 5 in version 0.22. Specify it explicitly to silence this warning.\n",
      "  warnings.warn(CV_WARNING, FutureWarning)\n"
     ]
    }
   ],
   "source": [
    "if True:\n",
    "    kernels = ['linear']\n",
    "    C_rgl = [0.01, 0.03, 0.1, 0.3, 1, 3]\n",
    "    for k in kernels:\n",
    "        for c in C_rgl:\n",
    "                    #t1 = time.time()\n",
    "                    svmPoly = svm.SVC()\n",
    "                    parameters = {'C': (c,), 'kernel':(k,)}\n",
    "                    gscv = GridSearchCV(svmPoly, param_grid=parameters)\n",
    "                    gscv.fit(x_train, y_train)\n",
    "                    print(\"PARAMS: -------- c:\", c, \" - k:\", k)\n",
    "                    #print(\"In \", t1 - time.time(), \" s\")\n",
    "                    print(\"train accuracy: {} \".format(gscv.score(x_train, y_train)))\n",
    "                    print(\"test accuracy: {} \".format(gscv.score(x_test, y_test)))\n",
    "\n",
    "                    #print(\"in: \", time.time() - t1)\n",
    "                    print()"
   ]
  },
  {
   "cell_type": "code",
   "execution_count": 34,
   "metadata": {
    "scrolled": true
   },
   "outputs": [
    {
     "name": "stderr",
     "output_type": "stream",
     "text": [
      "/home/luis/anaconda3/lib/python3.7/site-packages/sklearn/model_selection/_split.py:1978: FutureWarning: The default value of cv will change from 3 to 5 in version 0.22. Specify it explicitly to silence this warning.\n",
      "  warnings.warn(CV_WARNING, FutureWarning)\n",
      "/home/luis/anaconda3/lib/python3.7/site-packages/sklearn/model_selection/_split.py:1978: FutureWarning: The default value of cv will change from 3 to 5 in version 0.22. Specify it explicitly to silence this warning.\n",
      "  warnings.warn(CV_WARNING, FutureWarning)\n"
     ]
    },
    {
     "name": "stdout",
     "output_type": "stream",
     "text": [
      "PARAMS: -------- c: 0.1  - k: rbf  -  g: 0.003\n",
      "train accuracy: 0.8775 \n",
      "test accuracy: 0.87 \n",
      "\n",
      "PARAMS: -------- c: 0.1  - k: rbf  -  g: 0.01\n",
      "train accuracy: 0.88125 \n",
      "test accuracy: 0.865 \n",
      "\n",
      "PARAMS: -------- c: 0.1  - k: rbf  -  g: 0.03\n",
      "train accuracy: 0.88 \n",
      "test accuracy: 0.865 \n",
      "\n"
     ]
    },
    {
     "name": "stderr",
     "output_type": "stream",
     "text": [
      "/home/luis/anaconda3/lib/python3.7/site-packages/sklearn/model_selection/_split.py:1978: FutureWarning: The default value of cv will change from 3 to 5 in version 0.22. Specify it explicitly to silence this warning.\n",
      "  warnings.warn(CV_WARNING, FutureWarning)\n",
      "/home/luis/anaconda3/lib/python3.7/site-packages/sklearn/model_selection/_split.py:1978: FutureWarning: The default value of cv will change from 3 to 5 in version 0.22. Specify it explicitly to silence this warning.\n",
      "  warnings.warn(CV_WARNING, FutureWarning)\n",
      "/home/luis/anaconda3/lib/python3.7/site-packages/sklearn/model_selection/_split.py:1978: FutureWarning: The default value of cv will change from 3 to 5 in version 0.22. Specify it explicitly to silence this warning.\n",
      "  warnings.warn(CV_WARNING, FutureWarning)\n",
      "/home/luis/anaconda3/lib/python3.7/site-packages/sklearn/model_selection/_split.py:1978: FutureWarning: The default value of cv will change from 3 to 5 in version 0.22. Specify it explicitly to silence this warning.\n",
      "  warnings.warn(CV_WARNING, FutureWarning)\n"
     ]
    },
    {
     "name": "stdout",
     "output_type": "stream",
     "text": [
      "PARAMS: -------- c: 0.1  - k: rbf  -  g: 0.1\n",
      "train accuracy: 0.88125 \n",
      "test accuracy: 0.86 \n",
      "\n",
      "PARAMS: -------- c: 0.1  - k: rbf  -  g: 0.3\n",
      "train accuracy: 0.885 \n",
      "test accuracy: 0.86 \n",
      "\n",
      "PARAMS: -------- c: 0.1  - k: rbf  -  g: 1\n",
      "train accuracy: 0.88625 \n",
      "test accuracy: 0.86 \n",
      "\n",
      "PARAMS: -------- c: 0.3  - k: rbf  -  g: 0.003\n",
      "train accuracy: 0.88 \n",
      "test accuracy: 0.865 \n",
      "\n"
     ]
    },
    {
     "name": "stderr",
     "output_type": "stream",
     "text": [
      "/home/luis/anaconda3/lib/python3.7/site-packages/sklearn/model_selection/_split.py:1978: FutureWarning: The default value of cv will change from 3 to 5 in version 0.22. Specify it explicitly to silence this warning.\n",
      "  warnings.warn(CV_WARNING, FutureWarning)\n",
      "/home/luis/anaconda3/lib/python3.7/site-packages/sklearn/model_selection/_split.py:1978: FutureWarning: The default value of cv will change from 3 to 5 in version 0.22. Specify it explicitly to silence this warning.\n",
      "  warnings.warn(CV_WARNING, FutureWarning)\n",
      "/home/luis/anaconda3/lib/python3.7/site-packages/sklearn/model_selection/_split.py:1978: FutureWarning: The default value of cv will change from 3 to 5 in version 0.22. Specify it explicitly to silence this warning.\n",
      "  warnings.warn(CV_WARNING, FutureWarning)\n",
      "/home/luis/anaconda3/lib/python3.7/site-packages/sklearn/model_selection/_split.py:1978: FutureWarning: The default value of cv will change from 3 to 5 in version 0.22. Specify it explicitly to silence this warning.\n",
      "  warnings.warn(CV_WARNING, FutureWarning)\n"
     ]
    },
    {
     "name": "stdout",
     "output_type": "stream",
     "text": [
      "PARAMS: -------- c: 0.3  - k: rbf  -  g: 0.01\n",
      "train accuracy: 0.88125 \n",
      "test accuracy: 0.86 \n",
      "\n",
      "PARAMS: -------- c: 0.3  - k: rbf  -  g: 0.03\n",
      "train accuracy: 0.8825 \n",
      "test accuracy: 0.86 \n",
      "\n",
      "PARAMS: -------- c: 0.3  - k: rbf  -  g: 0.1\n",
      "train accuracy: 0.88125 \n",
      "test accuracy: 0.86 \n",
      "\n",
      "PARAMS: -------- c: 0.3  - k: rbf  -  g: 0.3\n",
      "train accuracy: 0.88625 \n",
      "test accuracy: 0.86 \n",
      "\n",
      "PARAMS: -------- c: 0.3  - k: rbf  -  g: 1\n",
      "train accuracy: 0.885 \n",
      "test accuracy: 0.865 \n",
      "\n"
     ]
    },
    {
     "name": "stderr",
     "output_type": "stream",
     "text": [
      "/home/luis/anaconda3/lib/python3.7/site-packages/sklearn/model_selection/_split.py:1978: FutureWarning: The default value of cv will change from 3 to 5 in version 0.22. Specify it explicitly to silence this warning.\n",
      "  warnings.warn(CV_WARNING, FutureWarning)\n",
      "/home/luis/anaconda3/lib/python3.7/site-packages/sklearn/model_selection/_split.py:1978: FutureWarning: The default value of cv will change from 3 to 5 in version 0.22. Specify it explicitly to silence this warning.\n",
      "  warnings.warn(CV_WARNING, FutureWarning)\n",
      "/home/luis/anaconda3/lib/python3.7/site-packages/sklearn/model_selection/_split.py:1978: FutureWarning: The default value of cv will change from 3 to 5 in version 0.22. Specify it explicitly to silence this warning.\n",
      "  warnings.warn(CV_WARNING, FutureWarning)\n",
      "/home/luis/anaconda3/lib/python3.7/site-packages/sklearn/model_selection/_split.py:1978: FutureWarning: The default value of cv will change from 3 to 5 in version 0.22. Specify it explicitly to silence this warning.\n",
      "  warnings.warn(CV_WARNING, FutureWarning)\n",
      "/home/luis/anaconda3/lib/python3.7/site-packages/sklearn/model_selection/_split.py:1978: FutureWarning: The default value of cv will change from 3 to 5 in version 0.22. Specify it explicitly to silence this warning.\n",
      "  warnings.warn(CV_WARNING, FutureWarning)\n"
     ]
    },
    {
     "name": "stdout",
     "output_type": "stream",
     "text": [
      "PARAMS: -------- c: 1  - k: rbf  -  g: 0.003\n",
      "train accuracy: 0.88125 \n",
      "test accuracy: 0.865 \n",
      "\n",
      "PARAMS: -------- c: 1  - k: rbf  -  g: 0.01\n",
      "train accuracy: 0.8825 \n",
      "test accuracy: 0.86 \n",
      "\n",
      "PARAMS: -------- c: 1  - k: rbf  -  g: 0.03\n",
      "train accuracy: 0.88375 \n",
      "test accuracy: 0.86 \n",
      "\n",
      "PARAMS: -------- c: 1  - k: rbf  -  g: 0.1\n",
      "train accuracy: 0.88375 \n",
      "test accuracy: 0.86 \n",
      "\n",
      "PARAMS: -------- c: 1  - k: rbf  -  g: 0.3\n",
      "train accuracy: 0.88625 \n",
      "test accuracy: 0.86 \n",
      "\n"
     ]
    },
    {
     "name": "stderr",
     "output_type": "stream",
     "text": [
      "/home/luis/anaconda3/lib/python3.7/site-packages/sklearn/model_selection/_split.py:1978: FutureWarning: The default value of cv will change from 3 to 5 in version 0.22. Specify it explicitly to silence this warning.\n",
      "  warnings.warn(CV_WARNING, FutureWarning)\n",
      "/home/luis/anaconda3/lib/python3.7/site-packages/sklearn/model_selection/_split.py:1978: FutureWarning: The default value of cv will change from 3 to 5 in version 0.22. Specify it explicitly to silence this warning.\n",
      "  warnings.warn(CV_WARNING, FutureWarning)\n",
      "/home/luis/anaconda3/lib/python3.7/site-packages/sklearn/model_selection/_split.py:1978: FutureWarning: The default value of cv will change from 3 to 5 in version 0.22. Specify it explicitly to silence this warning.\n",
      "  warnings.warn(CV_WARNING, FutureWarning)\n",
      "/home/luis/anaconda3/lib/python3.7/site-packages/sklearn/model_selection/_split.py:1978: FutureWarning: The default value of cv will change from 3 to 5 in version 0.22. Specify it explicitly to silence this warning.\n",
      "  warnings.warn(CV_WARNING, FutureWarning)\n"
     ]
    },
    {
     "name": "stdout",
     "output_type": "stream",
     "text": [
      "PARAMS: -------- c: 1  - k: rbf  -  g: 1\n",
      "train accuracy: 0.885 \n",
      "test accuracy: 0.865 \n",
      "\n",
      "PARAMS: -------- c: 3  - k: rbf  -  g: 0.003\n",
      "train accuracy: 0.8825 \n",
      "test accuracy: 0.855 \n",
      "\n",
      "PARAMS: -------- c: 3  - k: rbf  -  g: 0.01\n",
      "train accuracy: 0.885 \n",
      "test accuracy: 0.86 \n",
      "\n"
     ]
    },
    {
     "name": "stderr",
     "output_type": "stream",
     "text": [
      "/home/luis/anaconda3/lib/python3.7/site-packages/sklearn/model_selection/_split.py:1978: FutureWarning: The default value of cv will change from 3 to 5 in version 0.22. Specify it explicitly to silence this warning.\n",
      "  warnings.warn(CV_WARNING, FutureWarning)\n",
      "/home/luis/anaconda3/lib/python3.7/site-packages/sklearn/model_selection/_split.py:1978: FutureWarning: The default value of cv will change from 3 to 5 in version 0.22. Specify it explicitly to silence this warning.\n",
      "  warnings.warn(CV_WARNING, FutureWarning)\n",
      "/home/luis/anaconda3/lib/python3.7/site-packages/sklearn/model_selection/_split.py:1978: FutureWarning: The default value of cv will change from 3 to 5 in version 0.22. Specify it explicitly to silence this warning.\n",
      "  warnings.warn(CV_WARNING, FutureWarning)\n",
      "/home/luis/anaconda3/lib/python3.7/site-packages/sklearn/model_selection/_split.py:1978: FutureWarning: The default value of cv will change from 3 to 5 in version 0.22. Specify it explicitly to silence this warning.\n",
      "  warnings.warn(CV_WARNING, FutureWarning)\n"
     ]
    },
    {
     "name": "stdout",
     "output_type": "stream",
     "text": [
      "PARAMS: -------- c: 3  - k: rbf  -  g: 0.03\n",
      "train accuracy: 0.8825 \n",
      "test accuracy: 0.86 \n",
      "\n",
      "PARAMS: -------- c: 3  - k: rbf  -  g: 0.1\n",
      "train accuracy: 0.88375 \n",
      "test accuracy: 0.86 \n",
      "\n",
      "PARAMS: -------- c: 3  - k: rbf  -  g: 0.3\n",
      "train accuracy: 0.88625 \n",
      "test accuracy: 0.86 \n",
      "\n",
      "PARAMS: -------- c: 3  - k: rbf  -  g: 1\n",
      "train accuracy: 0.8875 \n",
      "test accuracy: 0.87 \n",
      "\n"
     ]
    },
    {
     "name": "stderr",
     "output_type": "stream",
     "text": [
      "/home/luis/anaconda3/lib/python3.7/site-packages/sklearn/model_selection/_split.py:1978: FutureWarning: The default value of cv will change from 3 to 5 in version 0.22. Specify it explicitly to silence this warning.\n",
      "  warnings.warn(CV_WARNING, FutureWarning)\n"
     ]
    }
   ],
   "source": [
    "if True:\n",
    "    kernels = ['rbf']\n",
    "    C_rgl =  [0.1, 0.3, 1, 3]\n",
    "    gammas =  [0.003, 0.01, 0.03, 0.1, 0.3, 1]\n",
    "    for k in kernels:\n",
    "        for c in C_rgl:\n",
    "            for g in gammas:\n",
    "                    #t1 = time.time()\n",
    "                    svmPoly = svm.SVC()\n",
    "                    parameters = {'C': (c,), 'kernel':(k,), 'gamma':(g,)}\n",
    "                    gscv = GridSearchCV(svmPoly, param_grid=parameters)\n",
    "                    gscv.fit(x_train, y_train)\n",
    "                    print(\"PARAMS: -------- c:\", c, \" - k:\", k)\n",
    "                    #print(\"In \", t1 - time.time(), \" s\")\n",
    "                    print(\"train accuracy: {} \".format(gscv.score(x_train, y_train)))\n",
    "                    print(\"test accuracy: {} \".format(gscv.score(x_test, y_test)))\n",
    "\n",
    "                    #print(\"in: \", time.time() - t1)\n",
    "                    print()"
   ]
  },
  {
   "cell_type": "code",
   "execution_count": 36,
   "metadata": {},
   "outputs": [
    {
     "name": "stdout",
     "output_type": "stream",
     "text": [
      "train accuracy: 0.88375 \n",
      "test accuracy: 0.86 \n"
     ]
    },
    {
     "name": "stderr",
     "output_type": "stream",
     "text": [
      "/home/luis/anaconda3/lib/python3.7/site-packages/sklearn/svm/base.py:193: FutureWarning: The default value of gamma will change from 'auto' to 'scale' in version 0.22 to account better for unscaled features. Set gamma explicitly to 'auto' or 'scale' to avoid this warning.\n",
      "  \"avoid this warning.\", FutureWarning)\n"
     ]
    }
   ],
   "source": [
    "if True:\n",
    "                    svmPoly = svm.SVC(kernel='rbf')\n",
    "\n",
    "                    svmPoly.fit(x_train, y_train)\n",
    "\n",
    "                    print(\"train accuracy: {} \".format(svmPoly.score(x_train, y_train)))\n",
    "                    print(\"test accuracy: {} \".format(svmPoly.score(x_test, y_test)))\n"
   ]
  },
  {
   "cell_type": "code",
   "execution_count": 37,
   "metadata": {},
   "outputs": [
    {
     "name": "stdout",
     "output_type": "stream",
     "text": [
      "train accuracy: 0.8825 \n",
      "test accuracy: 0.855 \n"
     ]
    }
   ],
   "source": [
    "if True:\n",
    "                    svmPoly = svm.SVC(kernel='linear')\n",
    "\n",
    "                    svmPoly.fit(x_train, y_train)\n",
    "\n",
    "                    print(\"train accuracy: {} \".format(svmPoly.score(x_train, y_train)))\n",
    "                    print(\"test accuracy: {} \".format(svmPoly.score(x_test, y_test)))"
   ]
  },
  {
   "cell_type": "code",
   "execution_count": null,
   "metadata": {},
   "outputs": [],
   "source": [
    "PUTA DE TRABALHEIRA\n",
    "VOU BUSCAR O ALMOÇO BRB"
   ]
  }
 ],
 "metadata": {
  "kernelspec": {
   "display_name": "Python 3",
   "language": "python",
   "name": "python3"
  },
  "language_info": {
   "codemirror_mode": {
    "name": "ipython",
    "version": 3
   },
   "file_extension": ".py",
   "mimetype": "text/x-python",
   "name": "python",
   "nbconvert_exporter": "python",
   "pygments_lexer": "ipython3",
   "version": "3.7.4"
  }
 },
 "nbformat": 4,
 "nbformat_minor": 2
}
