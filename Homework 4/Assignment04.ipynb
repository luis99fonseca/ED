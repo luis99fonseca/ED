{
 "cells": [
  {
   "cell_type": "code",
   "execution_count": 21,
   "metadata": {},
   "outputs": [],
   "source": [
    "#numeric: pandas and numpy\n",
    "import numpy as np\n",
    "import pandas as pd\n",
    "# graphics\n",
    "%matplotlib inline \n",
    "import matplotlib.pyplot as plt \n",
    "import matplotlib.gridspec as gridspec \n",
    "\n",
    "from sklearn import linear_model, svm\n",
    "from sklearn.model_selection import train_test_split\n",
    "import time\n",
    "from sklearn.model_selection import cross_validate, GridSearchCV\n",
    "\n",
    "from sklearn.model_selection import StratifiedKFold\n",
    "from sklearn.preprocessing import StandardScaler\n",
    "from sklearn.metrics import confusion_matrix, accuracy_score\n",
    "\n",
    "from sklearn.linear_model import Perceptron\n",
    "from sklearn.neural_network import MLPClassifier\n",
    "\n",
    "from mlxtend.evaluate import mcnemar"
   ]
  },
  {
   "cell_type": "code",
   "execution_count": 2,
   "metadata": {},
   "outputs": [],
   "source": [
    "from sklearn.datasets import make_blobs, make_circles, make_moons, make_circles\n",
    "\n",
    "X_blobs, y_blobs = make_blobs(n_samples=1000, centers=2, n_features=2, random_state=None)\n",
    "\n",
    "X_moon,y_moon= make_moons(n_samples=1000, shuffle=True, noise=None, random_state=None)\n",
    "\n",
    "X_cir, y_cir= make_circles(n_samples=1000, shuffle=True, noise=None, random_state=None, factor=0.4)"
   ]
  },
  {
   "cell_type": "code",
   "execution_count": 3,
   "metadata": {},
   "outputs": [
    {
     "data": {
      "text/plain": [
       "<matplotlib.collections.PathCollection at 0x7f0a40ad2ad0>"
      ]
     },
     "execution_count": 3,
     "metadata": {},
     "output_type": "execute_result"
    },
    {
     "data": {
      "image/png": "[encoded data removed]",
      "text/plain": [
       "<Figure size 1080x720 with 3 Axes>"
      ]
     },
     "metadata": {
      "needs_background": "light"
     },
     "output_type": "display_data"
    }
   ],
   "source": [
    "fig, (ax1, ax2, ax3) = plt.subplots(1, 3, figsize=(15,10))\n",
    "\n",
    "ax1.scatter(X_blobs[y_blobs==0,0],X_blobs[y_blobs==0,1],marker='s',color='r',label='0' )\n",
    "ax1.scatter(X_blobs[y_blobs==1,0],X_blobs[y_blobs==1,1],marker='s',color='g',label='0' )\n",
    "#ax1.set_aspect('equal')\n",
    "ax2.scatter(X_moon[y_moon==0,0],X_moon[y_moon==0,1],marker='s',color='r',label='0' )\n",
    "ax2.scatter(X_moon[y_moon==1,0],X_moon[y_moon==1,1],marker='s',color='g',label='0' )\n",
    "\n",
    "ax3.scatter(X_cir[y_cir==0,0],X_cir[y_cir==0,1],marker='s',color='r',label='0' )\n",
    "ax3.scatter(X_cir[y_cir==1,0],X_cir[y_cir==1,1],marker='s',color='g',label='0' )"
   ]
  },
  {
   "cell_type": "code",
   "execution_count": 4,
   "metadata": {},
   "outputs": [],
   "source": [
    "x_train, x_test, y_train, y_test = train_test_split(X_blobs,y_blobs, test_size=0.2, random_state=44, stratify=y_blobs)"
   ]
  },
  {
   "cell_type": "code",
   "execution_count": 5,
   "metadata": {},
   "outputs": [
    {
     "name": "stdout",
     "output_type": "stream",
     "text": [
      "Training set feature matrix shape: (800, 2)\n",
      "Training set classification matrix shape: (800,)\n",
      "Testing set feature matrix shape: (200, 2)\n",
      "Testing set classification matrix shape: (200,)\n",
      "------------------------------------------------\n"
     ]
    }
   ],
   "source": [
    "print(\"Training set feature matrix shape: \" + str(x_train.shape))\n",
    "print(\"Training set classification matrix shape: \" + str(y_train.shape))\n",
    "print(\"Testing set feature matrix shape: \" + str(x_test.shape))\n",
    "print(\"Testing set classification matrix shape: \" + str(y_test.shape))\n",
    "print(\"------------------------------------------------\")"
   ]
  },
  {
   "cell_type": "code",
   "execution_count": 6,
   "metadata": {},
   "outputs": [
    {
     "name": "stdout",
     "output_type": "stream",
     "text": [
      "{0: 400, 1: 400}\n"
     ]
    }
   ],
   "source": [
    "unique, counts = np.unique(y_train, return_counts=True)\n",
    "print(dict(zip(unique, counts)))"
   ]
  },
  {
   "cell_type": "markdown",
   "metadata": {},
   "source": [
    "## SVM (Linear) vs SVM (RBF)"
   ]
  },
  {
   "cell_type": "code",
   "execution_count": 7,
   "metadata": {},
   "outputs": [],
   "source": [
    "def compare_matrices(correct_values, model1_values, model2_values):\n",
    "    model1_correct = np.array(correct_values == model1_values)\n",
    "    model2_correct = np.array(correct_values == model2_values)\n",
    "    res = np.zeros((2,2))\n",
    "    res[0,0] = np.sum(np.logical_and(model1_correct, model2_correct))\n",
    "    res[0,1] = np.sum(np.logical_and(model1_correct, np.logical_not(model2_correct)))\n",
    "    res[1,0] = np.sum(np.logical_and(np.logical_not(model1_correct), model2_correct))\n",
    "    res[1,1] = np.sum(np.logical_and(np.logical_not(model1_correct), np.logical_not(model2_correct)))\n",
    "    \n",
    "    return res"
   ]
  },
  {
   "cell_type": "markdown",
   "metadata": {},
   "source": [
    "### Blobs"
   ]
  },
  {
   "cell_type": "code",
   "execution_count": 8,
   "metadata": {},
   "outputs": [],
   "source": [
    "svmRBF = svm.SVC(kernel='rbf')\n",
    "svmLinear = svm.SVC(kernel='linear')"
   ]
  },
  {
   "cell_type": "code",
   "execution_count": 25,
   "metadata": {},
   "outputs": [
    {
     "name": "stdout",
     "output_type": "stream",
     "text": [
      "---------------- Blobs ----------------\n",
      "Conf Matrix RBF\n",
      " [[158   0]\n",
      " [  0 176]]\n",
      "Conf Matrix Linear\n",
      " [[137  21]\n",
      " [ 13 163]]\n",
      "Contingency Table\n",
      " [[300.  34.]\n",
      " [  0.   0.]]\n",
      "\n",
      "Conf Matrix RBF\n",
      " [[163   0]\n",
      " [  0 170]]\n",
      "Conf Matrix Linear\n",
      " [[149  14]\n",
      " [ 28 142]]\n",
      "Contingency Table\n",
      " [[291.  42.]\n",
      " [  0.   0.]]\n",
      "\n",
      "Conf Matrix RBF\n",
      " [[179   0]\n",
      " [  0 154]]\n",
      "Conf Matrix Linear\n",
      " [[154  25]\n",
      " [ 17 137]]\n",
      "Contingency Table\n",
      " [[291.  42.]\n",
      " [  0.   0.]]\n",
      "\n",
      "---------------- Moon ----------------\n",
      "Conf Matrix RBF\n",
      " [[167   0]\n",
      " [  0 167]]\n",
      "Conf Matrix Linear\n",
      " [[145  22]\n",
      " [ 13 154]]\n",
      "Contingency Table\n",
      " [[299.  35.]\n",
      " [  0.   0.]]\n",
      "\n",
      "Conf Matrix RBF\n",
      " [[167   0]\n",
      " [  0 166]]\n",
      "Conf Matrix Linear\n",
      " [[153  14]\n",
      " [ 28 138]]\n",
      "Contingency Table\n",
      " [[291.  42.]\n",
      " [  0.   0.]]\n",
      "\n",
      "Conf Matrix RBF\n",
      " [[166   0]\n",
      " [  0 167]]\n",
      "Conf Matrix Linear\n",
      " [[142  24]\n",
      " [ 18 149]]\n",
      "Contingency Table\n",
      " [[291.  42.]\n",
      " [  0.   0.]]\n",
      "\n",
      "---------------- Circle ----------------\n",
      "Conf Matrix RBF\n",
      " [[158   0]\n",
      " [  0 176]]\n",
      "Conf Matrix Linear\n",
      " [[137  21]\n",
      " [ 13 163]]\n",
      "Contingency Table\n",
      " [[300.  34.]\n",
      " [  0.   0.]]\n",
      "\n",
      "Conf Matrix RBF\n",
      " [[164   0]\n",
      " [  0 169]]\n",
      "Conf Matrix Linear\n",
      " [[150  14]\n",
      " [ 31 138]]\n",
      "Contingency Table\n",
      " [[288.  45.]\n",
      " [  0.   0.]]\n",
      "\n",
      "Conf Matrix RBF\n",
      " [[178   0]\n",
      " [  0 155]]\n",
      "Conf Matrix Linear\n",
      " [[153  25]\n",
      " [ 17 138]]\n",
      "Contingency Table\n",
      " [[291.  42.]\n",
      " [  0.   0.]]\n",
      "\n"
     ]
    }
   ],
   "source": [
    "\n",
    "\n",
    "k_fold = StratifiedKFold(n_splits=3)\n",
    "X = X_moon\n",
    "y = y_moon\n",
    "\n",
    "dict = {\"Blobs\": (X_blobs, y_blobs), \"Moon\": (X_moon, y_moon), \"Circle\": (X_cir, y_cir)}\n",
    "\n",
    "sections = []\n",
    "accuracies_by_model = []\n",
    "for k,v in dict.items():\n",
    "    sub_section = []\n",
    "    print(\"----------------\", k, \"----------------\")\n",
    "    for train_indices, test_indices in k_fold.split(v[0],v[1]):\n",
    "        \n",
    "        scaler = StandardScaler() \n",
    "        X_train=X[train_indices]\n",
    "\n",
    "        Xs=scaler.fit_transform(X_train)\n",
    "\n",
    "        Xtest=scaler.transform(X[test_indices])\n",
    "\n",
    "        svmRBF.fit(Xs,y[train_indices])\n",
    "        svmLinear.fit(Xs, y[train_indices])\n",
    "\n",
    "        y_pred_rbf=svmRBF.predict(Xtest)\n",
    "        y_pred_lin=svmLinear.predict(Xtest)\n",
    "        print(\"Conf Matrix RBF\\n\", confusion_matrix(y[test_indices],y_pred_rbf))\n",
    "        print(\"Conf Matrix Linear\\n\", confusion_matrix(y[test_indices],y_pred_lin))\n",
    "        print(\"Contingency Table\\n\", compare_matrices(y[test_indices], y_pred_rbf, y_pred_lin))\n",
    "        print()\n",
    "        sub_section.append(compare_matrices(y[test_indices], y_pred_rbf, y_pred_lin))\n",
    "        accuracies_by_model.append((\n",
    "            accuracy_score(y[test_indices],y_pred_rbf),\n",
    "            accuracy_score(y[test_indices],y_pred_lin)\n",
    "        ))\n",
    "    sections.append(sub_section)\n",
    "    "
   ]
  },
  {
   "cell_type": "markdown",
   "metadata": {},
   "source": [
    "Here, we are calculating the confusion matrix for both the SVM with a RBF kernel and the Linear Kernel SVM (i.e. no kernel). After this, we are calling a method we implemented that will calculate the number of answers the models got right or wrong, posed in the following manner:\n",
    " - (0,0) represents the number of answers both models got right\n",
    " - (0,1) represents the number of answers the RBF model got right and the Linear model got wrong\n",
    " - (1,0) represents the number of answers the RBF model got wrong and the Linear model got wrong\n",
    " - (1,1) represents the number of answers both models got wrong\n",
    " \n",
    "With this matrix we can calculate the value of Chi-squared, as it was shown in the article linked to this exercise."
   ]
  },
  {
   "cell_type": "code",
   "execution_count": 26,
   "metadata": {},
   "outputs": [
    {
     "name": "stdout",
     "output_type": "stream",
     "text": [
      "(hand-made) chi-squared:  32.029411764705884\n",
      "chi-squared: 32.029411764705884\n",
      "p-value: 1.5185595523520037e-08\n",
      "\n",
      "(hand-made) chi-squared:  40.023809523809526\n",
      "chi-squared: 40.023809523809526\n",
      "p-value: 2.508860953006117e-10\n",
      "\n",
      "(hand-made) chi-squared:  40.023809523809526\n",
      "chi-squared: 40.023809523809526\n",
      "p-value: 2.508860953006117e-10\n",
      "\n",
      "(hand-made) chi-squared:  33.02857142857143\n",
      "chi-squared: 33.02857142857143\n",
      "p-value: 9.081445518184979e-09\n",
      "\n",
      "(hand-made) chi-squared:  40.023809523809526\n",
      "chi-squared: 40.023809523809526\n",
      "p-value: 2.508860953006117e-10\n",
      "\n",
      "(hand-made) chi-squared:  40.023809523809526\n",
      "chi-squared: 40.023809523809526\n",
      "p-value: 2.508860953006117e-10\n",
      "\n",
      "(hand-made) chi-squared:  32.029411764705884\n",
      "chi-squared: 32.029411764705884\n",
      "p-value: 1.5185595523520037e-08\n",
      "\n",
      "(hand-made) chi-squared:  43.022222222222226\n",
      "chi-squared: 43.022222222222226\n",
      "p-value: 5.412161288732598e-11\n",
      "\n",
      "(hand-made) chi-squared:  40.023809523809526\n",
      "chi-squared: 40.023809523809526\n",
      "p-value: 2.508860953006117e-10\n",
      "\n"
     ]
    }
   ],
   "source": [
    "for ds in range(len(sections)):\n",
    "    for model in range(len(sections[ds])):\n",
    "        contingency_table = sections[ds][model]\n",
    "        print(\"(hand-made) chi-squared: \", ((np.abs(contingency_table[0,1] - contingency_table[1,0]) - 1)**2)/(contingency_table[0,1] + contingency_table[1,0]))\n",
    "        chi2, p = mcnemar(ary=contingency_table, corrected=True)\n",
    "        print('chi-squared:', chi2)\n",
    "        print('p-value:', p) \n",
    "        print()"
   ]
  },
  {
   "cell_type": "markdown",
   "metadata": {},
   "source": [
    "Here, for each section we calculated, following the formula in the article, the chi-squared. We then confirm the value with the library mlxtend, and retrieve the p-value. If the p-value is lower than our chosen significance level, we can reject the null hypothesis that the two models’ performances are equal. \n",
    "\n",
    "In this case, since the p-value has been consistently lower than 0.05, the proposed significance score as mentioned in the article, then we are sure that one of the models is better than the other."
   ]
  },
  {
   "cell_type": "code",
   "execution_count": 28,
   "metadata": {},
   "outputs": [
    {
     "name": "stdout",
     "output_type": "stream",
     "text": [
      "RBF\tLinear\n",
      "1.0\t0.8982035928143712\n",
      "1.0\t0.8738738738738738\n",
      "1.0\t0.8738738738738738\n",
      "1.0\t0.8952095808383234\n",
      "1.0\t0.8738738738738738\n",
      "1.0\t0.8738738738738738\n",
      "1.0\t0.8982035928143712\n",
      "1.0\t0.8648648648648649\n",
      "1.0\t0.8738738738738738\n"
     ]
    }
   ],
   "source": [
    "print(\"RBF\", \"Linear\", sep=\"\\t\")\n",
    "for acc in accuracies_by_model:\n",
    "    print(acc[0], acc[1], sep=\"\\t\")\n"
   ]
  },
  {
   "cell_type": "markdown",
   "metadata": {},
   "source": [
    "Here we can see that the accuracy for the RBF model is consistently better than the Linear model. Usually the accuracy score may not be enough, as it does not take into account the possible skeweness of the data. However, since these are generated by us, and we have made it so there are equal examples of positive cases and negative cases, we can assume there is no data skeweness and use the accuracy as comparison measure. Were this not the case then we would compare the models using F score, Recall and Precision scores."
   ]
  },
  {
   "cell_type": "markdown",
   "metadata": {},
   "source": [
    "## Percepton vs Multilayer feedforward neural network"
   ]
  },
  {
   "cell_type": "code",
   "execution_count": 30,
   "metadata": {},
   "outputs": [],
   "source": [
    "ppn=Perceptron(penalty=None, alpha=0.0001, fit_intercept=True, max_iter=20, tol=None, \n",
    "               eta0=0.1, n_jobs=1, random_state=0, class_weight=None, warm_start=False)\n",
    "\n",
    "\n",
    "ppnML = MLPClassifier(hidden_layer_sizes=(256,128,64,32),activation=\"relu\",random_state=1)"
   ]
  },
  {
   "cell_type": "code",
   "execution_count": 31,
   "metadata": {},
   "outputs": [
    {
     "name": "stdout",
     "output_type": "stream",
     "text": [
      "---------------- Blobs ----------------\n",
      "Conf Matrix ppn\n",
      " [[156   2]\n",
      " [ 38 138]]\n",
      "Conf Matrix ppnML\n",
      " [[158   0]\n",
      " [  0 176]]\n",
      "Contingency Table\n",
      " [[294.   0.]\n",
      " [ 40.   0.]]\n",
      "\n",
      "Conf Matrix ppn\n",
      " [[153  10]\n",
      " [ 43 127]]\n",
      "Conf Matrix ppnML\n",
      " [[163   0]\n",
      " [  0 170]]\n",
      "Contingency Table\n",
      " [[280.   0.]\n",
      " [ 53.   0.]]\n",
      "\n",
      "Conf Matrix ppn\n",
      " [[152  27]\n",
      " [ 22 132]]\n",
      "Conf Matrix ppnML\n",
      " [[179   0]\n",
      " [  0 154]]\n",
      "Contingency Table\n",
      " [[284.   0.]\n",
      " [ 49.   0.]]\n",
      "\n",
      "---------------- Moon ----------------\n",
      "Conf Matrix ppn\n",
      " [[153  14]\n",
      " [ 57 110]]\n",
      "Conf Matrix ppnML\n",
      " [[167   0]\n",
      " [  0 167]]\n",
      "Contingency Table\n",
      " [[263.   0.]\n",
      " [ 71.   0.]]\n",
      "\n",
      "Conf Matrix ppn\n",
      " [[159   8]\n",
      " [ 45 121]]\n",
      "Conf Matrix ppnML\n",
      " [[167   0]\n",
      " [  0 166]]\n",
      "Contingency Table\n",
      " [[280.   0.]\n",
      " [ 53.   0.]]\n",
      "\n",
      "Conf Matrix ppn\n",
      " [[141  25]\n",
      " [ 19 148]]\n",
      "Conf Matrix ppnML\n",
      " [[166   0]\n",
      " [  0 167]]\n",
      "Contingency Table\n",
      " [[289.   0.]\n",
      " [ 44.   0.]]\n",
      "\n",
      "---------------- Circle ----------------\n",
      "Conf Matrix ppn\n",
      " [[158   0]\n",
      " [ 73 103]]\n",
      "Conf Matrix ppnML\n",
      " [[158   0]\n",
      " [  0 176]]\n",
      "Contingency Table\n",
      " [[261.   0.]\n",
      " [ 73.   0.]]\n",
      "\n",
      "Conf Matrix ppn\n",
      " [[150  14]\n",
      " [ 26 143]]\n",
      "Conf Matrix ppnML\n",
      " [[164   0]\n",
      " [  0 169]]\n",
      "Contingency Table\n",
      " [[293.   0.]\n",
      " [ 40.   0.]]\n",
      "\n",
      "Conf Matrix ppn\n",
      " [[170   8]\n",
      " [ 40 115]]\n",
      "Conf Matrix ppnML\n",
      " [[178   0]\n",
      " [  0 155]]\n",
      "Contingency Table\n",
      " [[285.   0.]\n",
      " [ 48.   0.]]\n",
      "\n"
     ]
    }
   ],
   "source": [
    "sections = []\n",
    "accuracies_by_model = []\n",
    "\n",
    "for k,v in dict.items():\n",
    "    sub_section = []\n",
    "    print(\"----------------\", k, \"----------------\")\n",
    "    for train_indices, test_indices in k_fold.split(v[0],v[1]):\n",
    "        scaler = StandardScaler() \n",
    "        X_train=X[train_indices]\n",
    "\n",
    "        Xs=scaler.fit_transform(X_train)\n",
    "\n",
    "        Xtest=scaler.transform(X[test_indices])\n",
    "\n",
    "        ppn.fit(Xs,y[train_indices])\n",
    "        ppnML.fit(Xs, y[train_indices])\n",
    "\n",
    "        y_pred_ppn=ppn.predict(Xtest)\n",
    "        y_pred_ppnML=ppnML.predict(Xtest)\n",
    "\n",
    "        print(\"Conf Matrix ppn\\n\", confusion_matrix(y[test_indices],y_pred_ppn))\n",
    "        print(\"Conf Matrix ppnML\\n\", confusion_matrix(y[test_indices],y_pred_ppnML))\n",
    "        print(\"Contingency Table\\n\", compare_matrices(y[test_indices], y_pred_ppn, y_pred_ppnML))\n",
    "        print()\n",
    "        sub_section.append(compare_matrices(y[test_indices], y_pred_ppn, y_pred_ppnML))\n",
    "        accuracies_by_model.append((\n",
    "            accuracy_score(y[test_indices],y_pred_ppn),\n",
    "            accuracy_score(y[test_indices],y_pred_ppnML)\n",
    "        ))\n",
    "    sections.append(sub_section)\n",
    "    "
   ]
  },
  {
   "cell_type": "code",
   "execution_count": 39,
   "metadata": {},
   "outputs": [
    {
     "name": "stdout",
     "output_type": "stream",
     "text": [
      "(handmade) chi-squared:  38.025\n",
      "chi-squared: 38.025\n",
      "p-value: 6.984393061522137e-10\n",
      "\n",
      "(handmade) chi-squared:  51.0188679245283\n",
      "chi-squared: 51.0188679245283\n",
      "p-value: 9.148237214324991e-13\n",
      "\n",
      "(handmade) chi-squared:  47.02040816326531\n",
      "chi-squared: 47.02040816326531\n",
      "p-value: 7.02513719345829e-12\n",
      "\n",
      "(handmade) chi-squared:  69.01408450704226\n",
      "chi-squared: 69.01408450704226\n",
      "p-value: 9.776276453874759e-17\n",
      "\n",
      "(handmade) chi-squared:  51.0188679245283\n",
      "chi-squared: 51.0188679245283\n",
      "p-value: 9.148237214324991e-13\n",
      "\n",
      "(handmade) chi-squared:  42.02272727272727\n",
      "chi-squared: 42.02272727272727\n",
      "p-value: 9.021872818347158e-11\n",
      "\n",
      "(handmade) chi-squared:  71.01369863013699\n",
      "chi-squared: 71.01369863013699\n",
      "p-value: 3.5475318431267744e-17\n",
      "\n",
      "(handmade) chi-squared:  38.025\n",
      "chi-squared: 38.025\n",
      "p-value: 6.984393061522137e-10\n",
      "\n",
      "(handmade) chi-squared:  46.020833333333336\n",
      "chi-squared: 46.020833333333336\n",
      "p-value: 1.1700213117066249e-11\n",
      "\n"
     ]
    }
   ],
   "source": [
    "for ds in range(len(sections)):\n",
    "    for model in range(len(sections[ds])):\n",
    "        contingency_table = sections[ds][model]\n",
    "        print(\"(handmade) chi-squared: \", ((np.abs(contingency_table[0,1] - contingency_table[1,0]) - 1)**2)/(contingency_table[0,1] + contingency_table[1,0]))\n",
    "        chi2, p = mcnemar(ary=contingency_table, corrected=True)\n",
    "        print('chi-squared:', chi2)\n",
    "        print('p-value:', p) \n",
    "        print()"
   ]
  },
  {
   "cell_type": "code",
   "execution_count": 38,
   "metadata": {},
   "outputs": [
    {
     "name": "stdout",
     "output_type": "stream",
     "text": [
      "Perceptron\tML Feedforward\n",
      "0.88024\t\t1.00000\n",
      "0.84084\t\t1.00000\n",
      "0.85285\t\t1.00000\n",
      "0.78743\t\t1.00000\n",
      "0.84084\t\t1.00000\n",
      "0.86787\t\t1.00000\n",
      "0.78144\t\t1.00000\n",
      "0.87988\t\t1.00000\n",
      "0.85586\t\t1.00000\n"
     ]
    }
   ],
   "source": [
    "print(\"Perceptron\", \"ML Feedforward\", sep=\"\\t\")\n",
    "for acc in accuracies_by_model:\n",
    "    print(\"{:.5f}\\t\\t{:.5f}\".format(acc[0], acc[1]))\n"
   ]
  },
  {
   "cell_type": "markdown",
   "metadata": {},
   "source": [
    "Following the same method as we did to compare the previous pair, now will be comparing the Perceptron and the multilayer feedforward neural network. Again building the contingency table, calculating the chi-squared and checking the p-value.\n",
    "\n",
    "Again, since it has been consistently under the significance level of 0.05, we can reject the null hypothesis that dictates both models have the same performance. Finally, upon rejecting this, "
   ]
  }
 ],
 "metadata": {
  "kernelspec": {
   "display_name": "Python 3",
   "language": "python",
   "name": "python3"
  },
  "language_info": {
   "codemirror_mode": {
    "name": "ipython",
    "version": 3
   },
   "file_extension": ".py",
   "mimetype": "text/x-python",
   "name": "python",
   "nbconvert_exporter": "python",
   "pygments_lexer": "ipython3",
   "version": "3.7.4"
  }
 },
 "nbformat": 4,
 "nbformat_minor": 2
}
