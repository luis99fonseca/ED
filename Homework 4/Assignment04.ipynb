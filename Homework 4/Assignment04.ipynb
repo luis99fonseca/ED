{
 "cells": [
  {
   "cell_type": "code",
   "execution_count": 4,
   "metadata": {},
   "outputs": [],
   "source": [
    "#numeric: pandas and numpy\n",
    "import numpy as np\n",
    "import pandas as pd\n",
    "# graphics\n",
    "%matplotlib inline \n",
    "import matplotlib.pyplot as plt \n",
    "import matplotlib.gridspec as gridspec "
   ]
  },
  {
   "cell_type": "code",
   "execution_count": 5,
   "metadata": {},
   "outputs": [],
   "source": [
    "from sklearn.datasets import make_blobs, make_circles, make_moons, make_circles\n",
    "\n",
    "X_blobs, y_blobs = make_blobs(n_samples=1000, centers=2, n_features=2, random_state=None)\n",
    "\n",
    "X_moon,y_moon= make_moons(n_samples=1000, shuffle=True, noise=None, random_state=None)\n",
    "\n",
    "X_cir, y_cir= make_circles(n_samples=1000, shuffle=True, noise=None, random_state=None, factor=0.4)"
   ]
  },
  {
   "cell_type": "code",
   "execution_count": 6,
   "metadata": {},
   "outputs": [
    {
     "data": {
      "text/plain": [
       "<matplotlib.collections.PathCollection at 0x7fd6bb48f8e0>"
      ]
     },
     "execution_count": 6,
     "metadata": {},
     "output_type": "execute_result"
    },
    {
     "data": {
      "image/png": "[encoded data removed]",
      "text/plain": [
       "<Figure size 1080x720 with 3 Axes>"
      ]
     },
     "metadata": {
      "needs_background": "light"
     },
     "output_type": "display_data"
    }
   ],
   "source": [
    "fig, (ax1, ax2, ax3) = plt.subplots(1, 3, figsize=(15,10))\n",
    "\n",
    "ax1.scatter(X_blobs[y_blobs==0,0],X_blobs[y_blobs==0,1],marker='s',color='r',label='0' )\n",
    "ax1.scatter(X_blobs[y_blobs==1,0],X_blobs[y_blobs==1,1],marker='s',color='g',label='0' )\n",
    "#ax1.set_aspect('equal')\n",
    "ax2.scatter(X_moon[y_moon==0,0],X_moon[y_moon==0,1],marker='s',color='r',label='0' )\n",
    "ax2.scatter(X_moon[y_moon==1,0],X_moon[y_moon==1,1],marker='s',color='g',label='0' )\n",
    "\n",
    "ax3.scatter(X_cir[y_cir==0,0],X_cir[y_cir==0,1],marker='s',color='r',label='0' )\n",
    "ax3.scatter(X_cir[y_cir==1,0],X_cir[y_cir==1,1],marker='s',color='g',label='0' )"
   ]
  },
  {
   "cell_type": "code",
   "execution_count": 7,
   "metadata": {},
   "outputs": [],
   "source": [
    "from sklearn import linear_model, svm\n",
    "from sklearn.model_selection import train_test_split\n",
    "import time\n",
    "from sklearn.model_selection import cross_validate, GridSearchCV"
   ]
  },
  {
   "cell_type": "code",
   "execution_count": 8,
   "metadata": {},
   "outputs": [],
   "source": [
    "x_train, x_test, y_train, y_test = train_test_split(X_blobs,y_blobs, test_size=0.2, random_state=44, stratify=y_blobs)"
   ]
  },
  {
   "cell_type": "code",
   "execution_count": 9,
   "metadata": {},
   "outputs": [
    {
     "name": "stdout",
     "output_type": "stream",
     "text": [
      "Training set feature matrix shape: (800, 2)\n",
      "Training set classification matrix shape: (800,)\n",
      "Testing set feature matrix shape: (200, 2)\n",
      "Testing set classification matrix shape: (200,)\n",
      "------------------------------------------------\n"
     ]
    }
   ],
   "source": [
    "print(\"Training set feature matrix shape: \" + str(x_train.shape))\n",
    "print(\"Training set classification matrix shape: \" + str(y_train.shape))\n",
    "print(\"Testing set feature matrix shape: \" + str(x_test.shape))\n",
    "print(\"Testing set classification matrix shape: \" + str(y_test.shape))\n",
    "print(\"------------------------------------------------\")"
   ]
  },
  {
   "cell_type": "code",
   "execution_count": 10,
   "metadata": {},
   "outputs": [
    {
     "name": "stdout",
     "output_type": "stream",
     "text": [
      "{0: 400, 1: 400}\n"
     ]
    }
   ],
   "source": [
    "#print(x_train[0])\n",
    "#print(y_train)\n",
    "unique, counts = np.unique(y_train, return_counts=True)\n",
    "print(dict(zip(unique, counts)))"
   ]
  },
  {
   "cell_type": "markdown",
   "metadata": {},
   "source": [
    "## SVM (Linear) vs SVM (RBF)"
   ]
  },
  {
   "cell_type": "code",
   "execution_count": 11,
   "metadata": {},
   "outputs": [
    {
     "name": "stdout",
     "output_type": "stream",
     "text": [
      "train accuracy: 1.0 \n",
      "test accuracy: 1.0 \n"
     ]
    }
   ],
   "source": [
    "\n",
    "svmRBF = svm.SVC(kernel='rbf')\n",
    "\n",
    "svmRBF.fit(x_train, y_train)\n",
    "\n",
    "print(\"train accuracy: {} \".format(svmRBF.score(x_train, y_train)))\n",
    "print(\"test accuracy: {} \".format(svmRBF.score(x_test, y_test)))\n"
   ]
  },
  {
   "cell_type": "code",
   "execution_count": 12,
   "metadata": {},
   "outputs": [
    {
     "name": "stdout",
     "output_type": "stream",
     "text": [
      "train accuracy: 1.0 \n",
      "test accuracy: 1.0 \n"
     ]
    }
   ],
   "source": [
    "\n",
    "svmLinear = svm.SVC(kernel='linear')\n",
    "\n",
    "svmLinear.fit(x_train, y_train)\n",
    "\n",
    "print(\"train accuracy: {} \".format(svmLinear.score(x_train, y_train)))\n",
    "print(\"test accuracy: {} \".format(svmLinear.score(x_test, y_test)))"
   ]
  },
  {
   "cell_type": "code",
   "execution_count": 13,
   "metadata": {},
   "outputs": [],
   "source": [
    "svmRBF = svm.SVC(kernel='rbf')\n",
    "svmLinear = svm.SVC(kernel='linear')"
   ]
  },
  {
   "cell_type": "code",
   "execution_count": 14,
   "metadata": {},
   "outputs": [],
   "source": [
    "def compare_matrices(correct_values, model1_values, model2_values):\n",
    "    model1_correct = np.array(correct_values == model1_values)\n",
    "    model2_correct = np.array(correct_values == model2_values)\n",
    "    res = np.zeros((2,2))\n",
    "    res[0,0] = np.sum(np.logical_and(model1_correct, model2_correct))\n",
    "    res[0,1] = np.sum(np.logical_and(model1_correct, np.logical_not(model2_correct)))\n",
    "    res[1,0] = np.sum(np.logical_and(np.logical_not(model1_correct), model2_correct))\n",
    "    res[1,1] = np.sum(np.logical_and(np.logical_not(model1_correct), np.logical_not(model2_correct)))\n",
    "    \n",
    "    return res"
   ]
  },
  {
   "cell_type": "code",
   "execution_count": 15,
   "metadata": {},
   "outputs": [
    {
     "name": "stdout",
     "output_type": "stream",
     "text": [
      "Conf Matrix RBF\n",
      " [[167   0]\n",
      " [  0 167]]\n",
      "Conf Matrix Linear\n",
      " [[144  23]\n",
      " [ 14 153]]\n",
      "Conf Matrix RBF\n",
      " [[167   0]\n",
      " [  0 166]]\n",
      "Conf Matrix Linear\n",
      " [[147  20]\n",
      " [ 23 143]]\n",
      "Conf Matrix RBF\n",
      " [[166   0]\n",
      " [  0 167]]\n",
      "Conf Matrix Linear\n",
      " [[152  14]\n",
      " [ 20 147]]\n"
     ]
    }
   ],
   "source": [
    "from sklearn.model_selection import StratifiedKFold\n",
    "from sklearn.preprocessing import StandardScaler\n",
    "from sklearn.metrics import confusion_matrix, plot_confusion_matrix\n",
    "\n",
    "k_fold = StratifiedKFold(n_splits=3)\n",
    "X = X_moon\n",
    "y = y_moon\n",
    "\n",
    "sections = []\n",
    "\n",
    "for train_indices, test_indices in k_fold.split(X,y):\n",
    "    scaler = StandardScaler() \n",
    "    X_train=X[train_indices]\n",
    "   \n",
    "    Xs=scaler.fit_transform(X_train)\n",
    "\n",
    "    Xtest=scaler.transform(X[test_indices])\n",
    "    \n",
    "    svmRBF.fit(Xs,y[train_indices])\n",
    "    svmLinear.fit(Xs, y[train_indices])\n",
    "    \n",
    "    y_pred_rbf=svmRBF.predict(Xtest)\n",
    "    y_pred_lin=svmLinear.predict(Xtest)\n",
    "    print(\"Conf Matrix RBF\\n\", confusion_matrix(y[test_indices],y_pred_rbf))\n",
    "    print(\"Conf Matrix Linear\\n\", confusion_matrix(y[test_indices],y_pred_lin))\n",
    "    sections.append(compare_matrices(y[test_indices], y_pred_rbf, y_pred_lin))\n",
    "    "
   ]
  },
  {
   "cell_type": "code",
   "execution_count": 16,
   "metadata": {},
   "outputs": [
    {
     "name": "stdout",
     "output_type": "stream",
     "text": [
      "35.027027027027025\n"
     ]
    }
   ],
   "source": [
    "ola = sections[0]\n",
    "\n",
    "mrd = ((np.abs(ola[0,1] - ola[1,0]) - 1)**2)/(ola[0,1] + ola[1,0])\n",
    "\n",
    "print(mrd)"
   ]
  },
  {
   "cell_type": "code",
   "execution_count": 28,
   "metadata": {},
   "outputs": [
    {
     "name": "stdout",
     "output_type": "stream",
     "text": [
      "chi-squared: 35.027027027027025\n",
      "p-value: 3.2516061726496955e-09\n"
     ]
    }
   ],
   "source": [
    "from mlxtend.evaluate import mcnemar\n",
    "\n",
    "chi2, p = mcnemar(ary=ola, corrected=True)\n",
    "print('chi-squared:', chi2)\n",
    "print('p-value:', p) "
   ]
  },
  {
   "cell_type": "markdown",
   "metadata": {},
   "source": [
    "## Percepton vs Multilayer feedforward neural network"
   ]
  },
  {
   "cell_type": "code",
   "execution_count": 24,
   "metadata": {},
   "outputs": [],
   "source": [
    "from sklearn.linear_model import Perceptron\n",
    "from sklearn.neural_network import MLPClassifier"
   ]
  },
  {
   "cell_type": "code",
   "execution_count": 20,
   "metadata": {},
   "outputs": [
    {
     "name": "stdout",
     "output_type": "stream",
     "text": [
      "train accuracy: 1.0 \n",
      "test accuracy: 1.0 \n"
     ]
    }
   ],
   "source": [
    "ppn=Perceptron(penalty=None, alpha=0.0001, fit_intercept=True, max_iter=20, tol=None, \n",
    "               eta0=0.1, n_jobs=1, random_state=0, class_weight=None, warm_start=False)\n",
    "\n",
    "ppn.fit(x_train, y_train)\n",
    "\n",
    "print(\"train accuracy: {} \".format(ppn.score(x_train, y_train)))\n",
    "print(\"test accuracy: {} \".format(ppn.score(x_test, y_test)))\n"
   ]
  },
  {
   "cell_type": "code",
   "execution_count": 30,
   "metadata": {},
   "outputs": [
    {
     "name": "stdout",
     "output_type": "stream",
     "text": [
      "train accuracy: 1.0 \n",
      "test accuracy: 1.0 \n"
     ]
    }
   ],
   "source": [
    "ppnML = MLPClassifier(hidden_layer_sizes=(256,128,64,32),activation=\"relu\",random_state=1)\n",
    "\n",
    "ppnML.fit(x_train, y_train)\n",
    "\n",
    "print(\"train accuracy: {} \".format(ppnML.score(x_train, y_train)))\n",
    "print(\"test accuracy: {} \".format(ppnML.score(x_test, y_test)))\n"
   ]
  },
  {
   "cell_type": "code",
   "execution_count": 31,
   "metadata": {},
   "outputs": [
    {
     "name": "stdout",
     "output_type": "stream",
     "text": [
      "Conf Matrix ppn\n",
      " [[126  41]\n",
      " [ 11 156]]\n",
      "Conf Matrix ppnML\n",
      " [[167   0]\n",
      " [  0 167]]\n",
      "Conf Matrix ppn\n",
      " [[145  22]\n",
      " [ 27 139]]\n",
      "Conf Matrix ppnML\n",
      " [[167   0]\n",
      " [  0 166]]\n",
      "Conf Matrix ppn\n",
      " [[140  26]\n",
      " [ 12 155]]\n",
      "Conf Matrix ppnML\n",
      " [[166   0]\n",
      " [  0 167]]\n"
     ]
    }
   ],
   "source": [
    "sections_ppn = []\n",
    "\n",
    "for train_indices, test_indices in k_fold.split(X,y):\n",
    "    scaler = StandardScaler() \n",
    "    X_train=X[train_indices]\n",
    "   \n",
    "    Xs=scaler.fit_transform(X_train)\n",
    "\n",
    "    Xtest=scaler.transform(X[test_indices])\n",
    "    \n",
    "    ppn.fit(Xs,y[train_indices])\n",
    "    ppnML.fit(Xs, y[train_indices])\n",
    "    \n",
    "    y_pred_ppn=ppn.predict(Xtest)\n",
    "    y_pred_ppnML=ppnML.predict(Xtest)\n",
    "    \n",
    "    print(\"Conf Matrix ppn\\n\", confusion_matrix(y[test_indices],y_pred_ppn))\n",
    "    print(\"Conf Matrix ppnML\\n\", confusion_matrix(y[test_indices],y_pred_ppnML))\n",
    "    sections_ppn.append(compare_matrices(y[test_indices], y_pred_ppn, y_pred_ppnML))\n",
    "    "
   ]
  },
  {
   "cell_type": "code",
   "execution_count": 33,
   "metadata": {},
   "outputs": [
    {
     "name": "stdout",
     "output_type": "stream",
     "text": [
      "chi-squared: 50.01923076923077\n",
      "p-value: 1.5224653042149069e-12\n"
     ]
    }
   ],
   "source": [
    "ola = sections_ppn[0]\n",
    "chi2, p = mcnemar(ary=ola, corrected=True)\n",
    "print('chi-squared:', chi2)\n",
    "print('p-value:', p) "
   ]
  },
  {
   "cell_type": "code",
   "execution_count": null,
   "metadata": {},
   "outputs": [],
   "source": []
  }
 ],
 "metadata": {
  "kernelspec": {
   "display_name": "Python 3",
   "language": "python",
   "name": "python3"
  },
  "language_info": {
   "codemirror_mode": {
    "name": "ipython",
    "version": 3
   },
   "file_extension": ".py",
   "mimetype": "text/x-python",
   "name": "python",
   "nbconvert_exporter": "python",
   "pygments_lexer": "ipython3",
   "version": "3.8.3"
  }
 },
 "nbformat": 4,
 "nbformat_minor": 2
}
