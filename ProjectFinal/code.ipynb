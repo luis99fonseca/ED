{
 "cells": [
  {
   "cell_type": "code",
   "execution_count": 13,
   "metadata": {},
   "outputs": [],
   "source": [
    "#numeric: pandas and numpy\n",
    "import numpy as np\n",
    "import pandas as pd\n",
    "import seaborn as sns\n",
    "\n",
    "# graphics\n",
    "%matplotlib inline \n",
    "import matplotlib.pyplot as plt \n",
    "import matplotlib.gridspec as gridspec \n",
    "\n",
    "from sklearn import linear_model, svm\n",
    "from sklearn.model_selection import train_test_split\n",
    "\n",
    "from sklearn.model_selection import cross_validate, GridSearchCV\n",
    "\n",
    "from sklearn.model_selection import StratifiedKFold\n",
    "from sklearn.preprocessing import StandardScaler\n",
    "from sklearn.metrics import confusion_matrix, accuracy_score,zero_one_loss\n",
    "\n",
    "from sklearn.linear_model import Perceptron\n",
    "from sklearn.neural_network import MLPClassifier\n",
    "\n",
    "from sklearn.neighbors import KNeighborsClassifier\n",
    "\n",
    "from sklearn.feature_selection import SelectKBest, f_classif\n",
    "from mlxtend.evaluate import mcnemar"
   ]
  },
  {
   "cell_type": "markdown",
   "metadata": {},
   "source": [
    "## Read Data"
   ]
  },
  {
   "cell_type": "code",
   "execution_count": 98,
   "metadata": {
    "scrolled": true
   },
   "outputs": [
    {
     "name": "stdout",
     "output_type": "stream",
     "text": [
      "<class 'numpy.float64'>\n",
      "<class 'numpy.int64'>\n",
      "Features: 533\n",
      "Records in DB: 4480\n",
      "Size Y: 4480\n"
     ]
    }
   ],
   "source": [
    "name_features = []\n",
    "with open('sensors-19-05524-s001/sensors-19-05524-s001_new/labels.txt', 'r') as file:\n",
    "    content = file.read()\n",
    "    cols = content.split('\\n')\n",
    "   # print(cols)\n",
    "    name_features = cols[1:-2]   # remove first column and the last two\n",
    "    \n",
    "Y = []\n",
    "X = []\n",
    "\n",
    "with open('sensors-19-05524-s001/sensors-19-05524-s001_new/data.txt', 'r') as file:\n",
    "    content = file.read()\n",
    "    cols = content.split('\\n')\n",
    "    for c in cols[:-1]:\n",
    "        data = c.split(',')\n",
    "        X.append(data[1:-1])\n",
    "        Y.append(data[-1])\n",
    "        \n",
    "# Convert String to Float\n",
    "X = np.array(X).astype(float)\n",
    "print(type(X[0][0]))\n",
    "\n",
    "#Convert String to Int\n",
    "Y = np.array(Y).astype(int)\n",
    "print(type(Y[0]))\n",
    "    \n",
    "print(f\"Features: {len(X[0])}\")\n",
    "print(f\"Records in DB: {len(X)}\")\n",
    "print(f\"Size Y: {len(Y)}\")"
   ]
  },
  {
   "cell_type": "code",
   "execution_count": 103,
   "metadata": {},
   "outputs": [
    {
     "data": {
      "image/png": "[encoded data removed]",
      "text/plain": [
       "<Figure size 720x504 with 1 Axes>"
      ]
     },
     "metadata": {},
     "output_type": "display_data"
    }
   ],
   "source": [
    "labels = list(range(1,5))\n",
    "quantity = [np.sum(Y == label) for label in labels]\n",
    "\n",
    "# Creating plot \n",
    "fig = plt.figure(figsize =(10, 7)) \n",
    "plt.pie(quantity, labels=[\"neutral\", \"emotional\", \"mental\", \"physical\"]) \n",
    "  \n",
    "# show plot \n",
    "plt.show()"
   ]
  },
  {
   "cell_type": "markdown",
   "metadata": {},
   "source": [
    "## Selection of Features (PCA)"
   ]
  },
  {
   "cell_type": "code",
   "execution_count": 15,
   "metadata": {},
   "outputs": [],
   "source": [
    "data_features = pd.DataFrame(X, dtype='float')\n",
    "\n",
    "corr_matrix = data_features.corr().abs()"
   ]
  },
  {
   "cell_type": "code",
   "execution_count": 16,
   "metadata": {},
   "outputs": [
    {
     "data": {
      "text/html": [
       "<div>\n",
       "<style scoped>\n",
       "    .dataframe tbody tr th:only-of-type {\n",
       "        vertical-align: middle;\n",
       "    }\n",
       "\n",
       "    .dataframe tbody tr th {\n",
       "        vertical-align: top;\n",
       "    }\n",
       "\n",
       "    .dataframe thead th {\n",
       "        text-align: right;\n",
       "    }\n",
       "</style>\n",
       "<table border=\"1\" class=\"dataframe\">\n",
       "  <thead>\n",
       "    <tr style=\"text-align: right;\">\n",
       "      <th></th>\n",
       "      <th>0</th>\n",
       "      <th>1</th>\n",
       "      <th>4</th>\n",
       "      <th>5</th>\n",
       "      <th>8</th>\n",
       "      <th>11</th>\n",
       "      <th>13</th>\n",
       "      <th>14</th>\n",
       "      <th>15</th>\n",
       "      <th>18</th>\n",
       "      <th>...</th>\n",
       "      <th>445</th>\n",
       "      <th>447</th>\n",
       "      <th>448</th>\n",
       "      <th>451</th>\n",
       "      <th>454</th>\n",
       "      <th>456</th>\n",
       "      <th>485</th>\n",
       "      <th>488</th>\n",
       "      <th>489</th>\n",
       "      <th>495</th>\n",
       "    </tr>\n",
       "  </thead>\n",
       "  <tbody>\n",
       "    <tr>\n",
       "      <th>0</th>\n",
       "      <td>-0.004125</td>\n",
       "      <td>0.254095</td>\n",
       "      <td>-0.538509</td>\n",
       "      <td>5.95534</td>\n",
       "      <td>-0.10937</td>\n",
       "      <td>-0.065212</td>\n",
       "      <td>0.001901</td>\n",
       "      <td>231.814</td>\n",
       "      <td>16.2733</td>\n",
       "      <td>0.374904</td>\n",
       "      <td>...</td>\n",
       "      <td>-4.85458</td>\n",
       "      <td>2.357070</td>\n",
       "      <td>9.48421</td>\n",
       "      <td>-15.5916</td>\n",
       "      <td>4.14944</td>\n",
       "      <td>-2.59232</td>\n",
       "      <td>16.0</td>\n",
       "      <td>798.68</td>\n",
       "      <td>0.63875</td>\n",
       "      <td>31.4247</td>\n",
       "    </tr>\n",
       "    <tr>\n",
       "      <th>1</th>\n",
       "      <td>0.031029</td>\n",
       "      <td>0.193761</td>\n",
       "      <td>0.781415</td>\n",
       "      <td>5.18794</td>\n",
       "      <td>-0.08737</td>\n",
       "      <td>-0.057924</td>\n",
       "      <td>0.002046</td>\n",
       "      <td>230.500</td>\n",
       "      <td>15.5536</td>\n",
       "      <td>0.397898</td>\n",
       "      <td>...</td>\n",
       "      <td>-6.90565</td>\n",
       "      <td>2.476570</td>\n",
       "      <td>11.24150</td>\n",
       "      <td>-16.9271</td>\n",
       "      <td>5.89258</td>\n",
       "      <td>-2.59483</td>\n",
       "      <td>20.0</td>\n",
       "      <td>798.68</td>\n",
       "      <td>0.68500</td>\n",
       "      <td>31.4359</td>\n",
       "    </tr>\n",
       "    <tr>\n",
       "      <th>2</th>\n",
       "      <td>0.015678</td>\n",
       "      <td>0.182336</td>\n",
       "      <td>0.881194</td>\n",
       "      <td>5.66530</td>\n",
       "      <td>-0.08037</td>\n",
       "      <td>-0.042190</td>\n",
       "      <td>0.002114</td>\n",
       "      <td>240.707</td>\n",
       "      <td>20.8210</td>\n",
       "      <td>0.725535</td>\n",
       "      <td>...</td>\n",
       "      <td>-5.94592</td>\n",
       "      <td>1.068740</td>\n",
       "      <td>4.24641</td>\n",
       "      <td>-14.9459</td>\n",
       "      <td>24.62180</td>\n",
       "      <td>-2.60259</td>\n",
       "      <td>24.0</td>\n",
       "      <td>798.68</td>\n",
       "      <td>0.68500</td>\n",
       "      <td>31.4478</td>\n",
       "    </tr>\n",
       "    <tr>\n",
       "      <th>3</th>\n",
       "      <td>0.014525</td>\n",
       "      <td>0.176636</td>\n",
       "      <td>1.024900</td>\n",
       "      <td>6.10968</td>\n",
       "      <td>-0.08037</td>\n",
       "      <td>-0.044888</td>\n",
       "      <td>0.002177</td>\n",
       "      <td>247.308</td>\n",
       "      <td>22.2275</td>\n",
       "      <td>0.267597</td>\n",
       "      <td>...</td>\n",
       "      <td>-6.18900</td>\n",
       "      <td>0.828304</td>\n",
       "      <td>4.28808</td>\n",
       "      <td>-14.6317</td>\n",
       "      <td>-28.60590</td>\n",
       "      <td>-2.61594</td>\n",
       "      <td>28.0</td>\n",
       "      <td>798.68</td>\n",
       "      <td>0.68375</td>\n",
       "      <td>31.4331</td>\n",
       "    </tr>\n",
       "    <tr>\n",
       "      <th>4</th>\n",
       "      <td>0.010349</td>\n",
       "      <td>0.179248</td>\n",
       "      <td>0.935697</td>\n",
       "      <td>5.83902</td>\n",
       "      <td>-0.08337</td>\n",
       "      <td>-0.041310</td>\n",
       "      <td>0.002217</td>\n",
       "      <td>247.744</td>\n",
       "      <td>20.1621</td>\n",
       "      <td>0.715390</td>\n",
       "      <td>...</td>\n",
       "      <td>-6.49062</td>\n",
       "      <td>0.988309</td>\n",
       "      <td>5.30232</td>\n",
       "      <td>-13.6923</td>\n",
       "      <td>-65.12220</td>\n",
       "      <td>-2.63103</td>\n",
       "      <td>32.0</td>\n",
       "      <td>798.68</td>\n",
       "      <td>0.71375</td>\n",
       "      <td>31.4347</td>\n",
       "    </tr>\n",
       "  </tbody>\n",
       "</table>\n",
       "<p>5 rows × 103 columns</p>\n",
       "</div>"
      ],
      "text/plain": [
       "        0         1         4        5        8         11        13   \\\n",
       "0 -0.004125  0.254095 -0.538509  5.95534 -0.10937 -0.065212  0.001901   \n",
       "1  0.031029  0.193761  0.781415  5.18794 -0.08737 -0.057924  0.002046   \n",
       "2  0.015678  0.182336  0.881194  5.66530 -0.08037 -0.042190  0.002114   \n",
       "3  0.014525  0.176636  1.024900  6.10968 -0.08037 -0.044888  0.002177   \n",
       "4  0.010349  0.179248  0.935697  5.83902 -0.08337 -0.041310  0.002217   \n",
       "\n",
       "       14       15        18   ...      445       447       448      451  \\\n",
       "0  231.814  16.2733  0.374904  ... -4.85458  2.357070   9.48421 -15.5916   \n",
       "1  230.500  15.5536  0.397898  ... -6.90565  2.476570  11.24150 -16.9271   \n",
       "2  240.707  20.8210  0.725535  ... -5.94592  1.068740   4.24641 -14.9459   \n",
       "3  247.308  22.2275  0.267597  ... -6.18900  0.828304   4.28808 -14.6317   \n",
       "4  247.744  20.1621  0.715390  ... -6.49062  0.988309   5.30232 -13.6923   \n",
       "\n",
       "        454      456   485     488      489      495  \n",
       "0   4.14944 -2.59232  16.0  798.68  0.63875  31.4247  \n",
       "1   5.89258 -2.59483  20.0  798.68  0.68500  31.4359  \n",
       "2  24.62180 -2.60259  24.0  798.68  0.68500  31.4478  \n",
       "3 -28.60590 -2.61594  28.0  798.68  0.68375  31.4331  \n",
       "4 -65.12220 -2.63103  32.0  798.68  0.71375  31.4347  \n",
       "\n",
       "[5 rows x 103 columns]"
      ]
     },
     "execution_count": 16,
     "metadata": {},
     "output_type": "execute_result"
    }
   ],
   "source": [
    "def drop_features(ds, corr, threshold=0.8):\n",
    "    # Select upper triangle of correlation matrix\n",
    "    upper = corr.where(np.triu(np.ones(corr.shape), k=1).astype(np.bool))\n",
    "\n",
    "    to_drop = [column for column in upper.columns if any(upper[column] > threshold)]\n",
    "    \n",
    "    return ds.drop(ds[to_drop], axis=1)\n",
    "\n",
    "reduced_dataset = drop_features(data_features, corr_matrix)\n",
    "reduced_dataset.head()"
   ]
  },
  {
   "cell_type": "code",
   "execution_count": 17,
   "metadata": {},
   "outputs": [
    {
     "name": "stdout",
     "output_type": "stream",
     "text": [
      "Features: 103\n",
      "Records in DB: 4480\n",
      "Size Y: 4480\n"
     ]
    }
   ],
   "source": [
    "X = reduced_dataset.to_numpy(dtype=\"float\")\n",
    "print(f\"Features: {len(X[0])}\")\n",
    "print(f\"Records in DB: {len(X)}\")\n",
    "print(f\"Size Y: {len(Y)}\")"
   ]
  },
  {
   "cell_type": "code",
   "execution_count": 18,
   "metadata": {},
   "outputs": [],
   "source": [
    "def get_best_x_features(df, dclass, num_features=50):\n",
    "\n",
    "    df = (df - np.min(df))/(np.max(df) - np.min(df))\n",
    "    \n",
    "    k_bestfeatures = SelectKBest(score_func = f_classif)\n",
    "    rankings = k_bestfeatures.fit(df, dclass)\n",
    "    b=list(rankings.scores_)\n",
    "    a=list(range(0,len(b)))\n",
    "\n",
    "    sf = [g for _,g in sorted(zip(b,a))]\n",
    "    sf=sf[len(a)-num_features:len(a)]\n",
    "    sf=reversed(sf)\n",
    "    inx=[]\n",
    "    for chosen in sf:\n",
    "        inx.append(chosen)\n",
    "    \n",
    "    dataset = pd.DataFrame(df, dtype='float')\n",
    "    \n",
    "    return dataset[inx].to_numpy(dtype='float')"
   ]
  },
  {
   "cell_type": "code",
   "execution_count": 19,
   "metadata": {},
   "outputs": [
    {
     "name": "stdout",
     "output_type": "stream",
     "text": [
      "Features: 50\n",
      "Records in DB: 4480\n",
      "Size Y: 4480\n"
     ]
    }
   ],
   "source": [
    "X = get_best_x_features(X,Y)\n",
    "print(f\"Features: {len(X[0])}\")\n",
    "print(f\"Records in DB: {len(X)}\")\n",
    "print(f\"Size Y: {len(Y)}\")"
   ]
  },
  {
   "cell_type": "markdown",
   "metadata": {},
   "source": [
    "## Training Data"
   ]
  },
  {
   "cell_type": "code",
   "execution_count": 20,
   "metadata": {},
   "outputs": [],
   "source": [
    "k_fold = StratifiedKFold(n_splits=4)"
   ]
  },
  {
   "cell_type": "code",
   "execution_count": 84,
   "metadata": {},
   "outputs": [],
   "source": [
    "def processKFold(model, X, Y):\n",
    "    \n",
    "    scores = []\n",
    "    loss = []\n",
    "    \n",
    "    for train_indexes, test_indexes in k_fold.split(X,Y):\n",
    "\n",
    "        # normalize the data\n",
    "        scaler = StandardScaler()\n",
    "\n",
    "        X_train, X_test = X[train_indexes], X[test_indexes]\n",
    "        Y_train, Y_test = Y[train_indexes], Y[test_indexes]\n",
    "\n",
    "        X_train = scaler.fit_transform(X_train)\n",
    "        X_test = scaler.transform(X_test)\n",
    "\n",
    "        model.fit(X_train, Y_train)\n",
    "\n",
    "        Y_pred = model.predict(X_test)\n",
    "        \n",
    "        scores.append(accuracy_score(Y_test, Y_pred))\n",
    "        loss.append(zero_one_loss(Y_test, Y_pred))\n",
    "        \n",
    "    return np.mean(scores), np.mean(loss), Y_pred == Y_test"
   ]
  },
  {
   "cell_type": "code",
   "execution_count": 22,
   "metadata": {},
   "outputs": [],
   "source": [
    "# Multilayer feedforward neural network\n",
    "\n",
    "# change number after\n",
    "def mlp8(X, Y):\n",
    "    \n",
    "    ppnML = MLPClassifier(hidden_layer_sizes=(8), activation=\"relu\", solver='sgd', \n",
    "                          learning_rate='adaptive', max_iter=1100, random_state=1, learning_rate_init=0.01)\n",
    "\n",
    "    return processKFold(ppnML, X, Y)"
   ]
  },
  {
   "cell_type": "code",
   "execution_count": 23,
   "metadata": {},
   "outputs": [],
   "source": [
    "# svm rbf and svm linear \n",
    "\n",
    "def svmRBF(X, Y):\n",
    "\n",
    "    svmRBF = svm.SVC(kernel='rbf')\n",
    "    \n",
    "    return processKFold(svmRBF, X, Y)"
   ]
  },
  {
   "cell_type": "code",
   "execution_count": 24,
   "metadata": {},
   "outputs": [],
   "source": [
    "def svmLinear(X, Y):\n",
    "\n",
    "    svmLinear = svm.SVC(kernel='linear')\n",
    "    \n",
    "    return processKFold(svmLinear, X, Y)"
   ]
  },
  {
   "cell_type": "code",
   "execution_count": 25,
   "metadata": {},
   "outputs": [],
   "source": [
    "def knn(X, Y, k=5):\n",
    "    \n",
    "    knn_c = KNeighborsClassifier(n_neighbors=k)\n",
    "     \n",
    "    return processKFold(knn_c, X, Y)"
   ]
  },
  {
   "cell_type": "markdown",
   "metadata": {},
   "source": [
    "# Tunning"
   ]
  },
  {
   "cell_type": "code",
   "execution_count": 26,
   "metadata": {
    "scrolled": false
   },
   "outputs": [
    {
     "data": {
      "image/png": "[encoded data removed]",
      "text/plain": [
       "<Figure size 432x288 with 1 Axes>"
      ]
     },
     "metadata": {
      "needs_background": "light"
     },
     "output_type": "display_data"
    },
    {
     "name": "stdout",
     "output_type": "stream",
     "text": [
      "min: 0.3455357142857143\n",
      "min2: 70\n"
     ]
    },
    {
     "data": {
      "image/png": "[encoded data removed]",
      "text/plain": [
       "<Figure size 432x288 with 1 Axes>"
      ]
     },
     "metadata": {
      "needs_background": "light"
     },
     "output_type": "display_data"
    },
    {
     "name": "stdout",
     "output_type": "stream",
     "text": [
      "min: 0.31674107142857144\n",
      "min2: 70\n"
     ]
    },
    {
     "data": {
      "image/png": "[encoded data removed]",
      "text/plain": [
       "<Figure size 432x288 with 1 Axes>"
      ]
     },
     "metadata": {
      "needs_background": "light"
     },
     "output_type": "display_data"
    },
    {
     "name": "stdout",
     "output_type": "stream",
     "text": [
      "min: 0.3046875\n",
      "min2: 140\n"
     ]
    },
    {
     "data": {
      "image/png": "[encoded data removed]",
      "text/plain": [
       "<Figure size 432x288 with 1 Axes>"
      ]
     },
     "metadata": {
      "needs_background": "light"
     },
     "output_type": "display_data"
    },
    {
     "name": "stdout",
     "output_type": "stream",
     "text": [
      "min: 0.3270089285714286\n",
      "min2: 100\n"
     ]
    },
    {
     "data": {
      "image/png": "[encoded data removed]",
      "text/plain": [
       "<Figure size 432x288 with 1 Axes>"
      ]
     },
     "metadata": {
      "needs_background": "light"
     },
     "output_type": "display_data"
    },
    {
     "name": "stdout",
     "output_type": "stream",
     "text": [
      "min: 0.3120535714285714\n",
      "min2: 70\n"
     ]
    },
    {
     "data": {
      "image/png": "[encoded data removed]",
      "text/plain": [
       "<Figure size 432x288 with 1 Axes>"
      ]
     },
     "metadata": {
      "needs_background": "light"
     },
     "output_type": "display_data"
    },
    {
     "name": "stdout",
     "output_type": "stream",
     "text": [
      "min: 0.3091517857142857\n",
      "min2: 130\n"
     ]
    },
    {
     "data": {
      "image/png": "[encoded data removed]",
      "text/plain": [
       "<Figure size 432x288 with 1 Axes>"
      ]
     },
     "metadata": {
      "needs_background": "light"
     },
     "output_type": "display_data"
    },
    {
     "name": "stdout",
     "output_type": "stream",
     "text": [
      "min: 0.3091517857142857\n",
      "min2: 130\n"
     ]
    }
   ],
   "source": [
    "# Teste Best k of neighbors\n",
    "neighbors = [1, 5, 10, 30, 70, 100, 130, 140, 150, 300]\n",
    "#neighbors = [130, 140, 141]\n",
    "\n",
    "num_features = [5, 20, 40 ,60, 80, 100, 120]\n",
    "\n",
    "acc_knn = []\n",
    "err_knn = []\n",
    "for f in num_features:\n",
    "    acc_knn = []\n",
    "    err_knn = []\n",
    "    for i in neighbors:\n",
    "\n",
    "        X_new = get_best_x_features(X,Y, f)\n",
    "\n",
    "        r = knn(X_new, Y, i)\n",
    "        #print(r)\n",
    "        acc_knn.append(r[0])\n",
    "        err_knn.append(r[1])\n",
    "    \n",
    "    \n",
    "    #plt.plot(neighbors, acc_knn, marker=\"o\" ,label=\"MPL8\")\n",
    "    plt.plot(neighbors, err_knn, marker=\"o\" ,label=\"erro\")\n",
    "    plt.legend()\n",
    "    plt.xlabel(\"Neighbrs\")\n",
    "    plt.ylabel(\"Error (%)\")\n",
    "    plt.title(str(f))\n",
    "    plt.grid()\n",
    "    plt.show()\n",
    "    print(\"min:\", np.min(err_knn))\n",
    "    print(\"min2:\", neighbors[np.argmin(err_knn)])"
   ]
  },
  {
   "cell_type": "markdown",
   "metadata": {},
   "source": [
    "### Variate number of features\n",
    "In this section, we gonna variate the number of best features to trainning the model, to try to find the best number of features to get good results. "
   ]
  },
  {
   "cell_type": "code",
   "execution_count": 27,
   "metadata": {},
   "outputs": [
    {
     "name": "stdout",
     "output_type": "stream",
     "text": [
      "Number of features: 5\n",
      "Number of features: 20\n",
      "Number of features: 40\n",
      "Number of features: 60\n",
      "Number of features: 80\n",
      "Number of features: 100\n",
      "Number of features: 120\n"
     ]
    }
   ],
   "source": [
    "num_features = [5, 20, 40 ,60, 80, 100, 120]\n",
    "\n",
    "loss_mpl8 = []\n",
    "loss_svm_linear = []\n",
    "loss_svm_rbf = []\n",
    "loss_knn = []\n",
    "\n",
    "for num_feature in num_features:\n",
    "    \n",
    "    print(f\"Number of features: {num_feature}\")\n",
    "    \n",
    "    X_new = get_best_x_features(X,Y, num_feature)\n",
    "    \n",
    "    loss_mpl8.append(mlp8(X_new, Y)[1])\n",
    "    loss_svm_rbf.append(svmRBF(X_new, Y)[1])\n",
    "    loss_svm_linear.append(svmLinear(X_new, Y)[1])\n",
    "    loss_knn.append(knn(X_new, Y, 140)[1])\n",
    "\n",
    "# convert to numpy array to be easily to convert values to percentage \n",
    "loss_mpl8 = np.array(loss_mpl8)\n",
    "loss_svm_rbf = np.array(loss_svm_rbf)\n",
    "loss_svm_linear = np.array(loss_svm_linear)\n",
    "loss_knn = np.array(loss_knn)"
   ]
  },
  {
   "cell_type": "code",
   "execution_count": 28,
   "metadata": {},
   "outputs": [
    {
     "data": {
      "image/png": "[encoded data removed]",
      "text/plain": [
       "<Figure size 432x288 with 1 Axes>"
      ]
     },
     "metadata": {
      "needs_background": "light"
     },
     "output_type": "display_data"
    }
   ],
   "source": [
    "plt.plot(num_features, loss_mpl8 * 100, marker=\"o\" ,label=\"MPL8\")\n",
    "plt.plot(num_features, loss_svm_rbf * 100, marker=\"v\", label=\"svmRBF\")\n",
    "plt.plot(num_features, loss_svm_linear * 100, marker=\"*\" , label=\"svmLinear\")\n",
    "plt.plot(num_features, loss_knn * 100, marker=\"^\" , label=\"knn\")\n",
    "plt.legend()\n",
    "plt.xlabel(\"Number of features\")\n",
    "plt.ylabel(\"Error (%)\")\n",
    "plt.grid()"
   ]
  },
  {
   "cell_type": "code",
   "execution_count": 30,
   "metadata": {},
   "outputs": [
    {
     "name": "stdout",
     "output_type": "stream",
     "text": [
      "MPL:\n",
      "Acc: 0.7194196428571429\n",
      "Loss: 0.2805803571428571\n"
     ]
    }
   ],
   "source": [
    "# only for test\n",
    "acc_mpl, loss_mpl, _ = mlp8(X, Y)\n",
    "\n",
    "print(f\"MPL:\\nAcc: {acc_mpl}\\nLoss: {loss_mpl}\")"
   ]
  },
  {
   "cell_type": "code",
   "execution_count": 31,
   "metadata": {},
   "outputs": [
    {
     "name": "stdout",
     "output_type": "stream",
     "text": [
      "svmRBF:\n",
      "Acc: 0.7299107142857143\n",
      "Loss: 0.2700892857142857\n"
     ]
    }
   ],
   "source": [
    "acc_svmRBF, loss_svmRBF,_ = svmRBF(X, Y)\n",
    "\n",
    "print(f\"svmRBF:\\nAcc: {acc_svmRBF}\\nLoss: {loss_svmRBF}\")"
   ]
  },
  {
   "cell_type": "code",
   "execution_count": 32,
   "metadata": {},
   "outputs": [
    {
     "name": "stdout",
     "output_type": "stream",
     "text": [
      "svmLinear:\n",
      "Acc: 0.7417410714285715\n",
      "Loss: 0.25825892857142857\n"
     ]
    }
   ],
   "source": [
    "acc_svmLinear, loss_svmLinear,_ = svmLinear(X, Y)\n",
    "\n",
    "print(f\"svmLinear:\\nAcc: {acc_svmLinear}\\nLoss: {loss_svmLinear}\")"
   ]
  },
  {
   "cell_type": "markdown",
   "metadata": {},
   "source": [
    "# Comparison between Models"
   ]
  },
  {
   "cell_type": "code",
   "execution_count": 85,
   "metadata": {},
   "outputs": [],
   "source": [
    "def contingency_table(model1_correct, model2_correct):\n",
    "    res = np.zeros((2,2))\n",
    "    res[0,0] = np.sum(np.logical_and(model1_correct, model2_correct))\n",
    "    res[0,1] = np.sum(np.logical_and(model1_correct, np.logical_not(model2_correct)))\n",
    "    res[1,0] = np.sum(np.logical_and(np.logical_not(model1_correct), model2_correct))\n",
    "    res[1,1] = np.sum(np.logical_and(np.logical_not(model1_correct), np.logical_not(model2_correct)))\n",
    "    \n",
    "    return res"
   ]
  },
  {
   "cell_type": "code",
   "execution_count": 81,
   "metadata": {},
   "outputs": [],
   "source": [
    "def confusion_matrix(correct_values, model1_values):\n",
    "    return confusion_matrix(correct_values, model1_values, normalize='true')"
   ]
  },
  {
   "cell_type": "code",
   "execution_count": 95,
   "metadata": {},
   "outputs": [],
   "source": [
    "def get_comparable_matrix(list_of_model_values, p_threshold=0.05):\n",
    "    num_models = len(list_of_model_values)\n",
    "    chi2_matrix = np.zeros((num_models, num_models))\n",
    "    p_value_matrix = np.zeros((num_models, num_models))\n",
    "    for i in range(num_models):\n",
    "        for j in range(i+1, num_models):\n",
    "            cont_table = contingency_table(list_of_model_values[i], list_of_model_values[j])\n",
    "            chi2, p_value = mcnemar(ary=cont_table, corrected=True)\n",
    "            chi2_matrix[i, j] = chi2\n",
    "            chi2_matrix[j, i] = chi2\n",
    "            p_value_matrix[i, j] = p_value\n",
    "            p_value_matrix[j, i] = p_value\n",
    "    print(p_value_matrix)\n",
    "    print(chi2_matrix)\n",
    "    print(p_value_matrix >= p_threshold)\n",
    "    return chi2_matrix, p_value_matrix, p_value_matrix >= p_threshold"
   ]
  },
  {
   "cell_type": "code",
   "execution_count": 87,
   "metadata": {},
   "outputs": [],
   "source": [
    "# For test, lets compare the rbf, linear and mlp models\n",
    "list_of_values = [\n",
    "    mlp8(X, Y)[2],\n",
    "    svmRBF(X, Y)[2],\n",
    "    svmLinear(X, Y)[2],\n",
    "]"
   ]
  },
  {
   "cell_type": "code",
   "execution_count": 96,
   "metadata": {},
   "outputs": [
    {
     "name": "stdout",
     "output_type": "stream",
     "text": [
      "[[670. 108.]\n",
      " [134. 208.]]\n",
      "[[720.  58.]\n",
      " [158. 184.]]\n",
      "[[769.  35.]\n",
      " [109. 207.]]\n",
      "[[0.00000000e+00 1.08041017e-01 1.62697926e-11]\n",
      " [1.08041017e-01 0.00000000e+00 1.17709270e-09]\n",
      " [1.62697926e-11 1.17709270e-09 0.00000000e+00]]\n",
      "[[ 0.          2.58264463 45.375     ]\n",
      " [ 2.58264463  0.         37.00694444]\n",
      " [45.375      37.00694444  0.        ]]\n",
      "[[False  True False]\n",
      " [ True False False]\n",
      " [False False False]]\n"
     ]
    },
    {
     "data": {
      "text/plain": [
       "(array([[ 0.        ,  2.58264463, 45.375     ],\n",
       "        [ 2.58264463,  0.        , 37.00694444],\n",
       "        [45.375     , 37.00694444,  0.        ]]),\n",
       " array([[0.00000000e+00, 1.08041017e-01, 1.62697926e-11],\n",
       "        [1.08041017e-01, 0.00000000e+00, 1.17709270e-09],\n",
       "        [1.62697926e-11, 1.17709270e-09, 0.00000000e+00]]),\n",
       " array([[False,  True, False],\n",
       "        [ True, False, False],\n",
       "        [False, False, False]]))"
      ]
     },
     "execution_count": 96,
     "metadata": {},
     "output_type": "execute_result"
    }
   ],
   "source": [
    "get_comparable_matrix(list_of_values)"
   ]
  },
  {
   "cell_type": "code",
   "execution_count": null,
   "metadata": {},
   "outputs": [],
   "source": []
  }
 ],
 "metadata": {
  "kernelspec": {
   "display_name": "Python 3",
   "language": "python",
   "name": "python3"
  },
  "language_info": {
   "codemirror_mode": {
    "name": "ipython",
    "version": 3
   },
   "file_extension": ".py",
   "mimetype": "text/x-python",
   "name": "python",
   "nbconvert_exporter": "python",
   "pygments_lexer": "ipython3",
   "version": "3.7.4"
  }
 },
 "nbformat": 4,
 "nbformat_minor": 4
}
