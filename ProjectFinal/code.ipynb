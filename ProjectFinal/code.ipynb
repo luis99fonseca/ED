{
 "cells": [
  {
   "cell_type": "code",
   "execution_count": 1,
   "metadata": {},
   "outputs": [],
   "source": [
    "#numeric: pandas and numpy\n",
    "import numpy as np\n",
    "import pandas as pd\n",
    "# graphics\n",
    "%matplotlib inline \n",
    "import matplotlib.pyplot as plt \n",
    "import matplotlib.gridspec as gridspec \n",
    "\n",
    "from sklearn import linear_model, svm\n",
    "from sklearn.model_selection import train_test_split\n",
    "\n",
    "from sklearn.model_selection import cross_validate, GridSearchCV\n",
    "\n",
    "from sklearn.model_selection import StratifiedKFold\n",
    "from sklearn.preprocessing import StandardScaler\n",
    "from sklearn.metrics import confusion_matrix, accuracy_score,zero_one_loss\n",
    "\n",
    "from sklearn.linear_model import Perceptron\n",
    "from sklearn.neural_network import MLPClassifier"
   ]
  },
  {
   "cell_type": "markdown",
   "metadata": {},
   "source": [
    "## Read Data"
   ]
  },
  {
   "cell_type": "code",
   "execution_count": 2,
   "metadata": {},
   "outputs": [
    {
     "name": "stdout",
     "output_type": "stream",
     "text": [
      "<class 'numpy.float64'>\n",
      "<class 'numpy.int64'>\n",
      "Features: 533\n",
      "Records in DB: 4480\n",
      "Size Y: 4480\n"
     ]
    }
   ],
   "source": [
    "name_features = []\n",
    "with open('sensors-19-05524-s001/sensors-19-05524-s001_new/labels.txt', 'r') as file:\n",
    "    content = file.read()\n",
    "    cols = content.split('\\n')\n",
    "    name_features = cols[1:-2]   # remove first column and the last two\n",
    "    \n",
    "Y = []\n",
    "X = []\n",
    "\n",
    "with open('sensors-19-05524-s001/sensors-19-05524-s001_new/data.txt', 'r') as file:\n",
    "    content = file.read()\n",
    "    cols = content.split('\\n')\n",
    "    for c in cols[:-1]:\n",
    "        data = c.split(',')\n",
    "        X.append(data[1:-1])\n",
    "        Y.append(data[-1])\n",
    "        \n",
    "# Convert String to Float\n",
    "X = np.array(X).astype(float)\n",
    "print(type(X[0][0]))\n",
    "\n",
    "#Convert String to Int\n",
    "Y = np.array(Y).astype(int)\n",
    "print(type(Y[0]))\n",
    "    \n",
    "print(f\"Features: {len(X[0])}\")\n",
    "print(f\"Records in DB: {len(X)}\")\n",
    "print(f\"Size Y: {len(Y)}\")"
   ]
  },
  {
   "cell_type": "markdown",
   "metadata": {},
   "source": [
    "## Selection of Features (PCA)"
   ]
  },
  {
   "cell_type": "code",
   "execution_count": null,
   "metadata": {},
   "outputs": [],
   "source": []
  },
  {
   "cell_type": "markdown",
   "metadata": {},
   "source": [
    "## Training Data"
   ]
  },
  {
   "cell_type": "code",
   "execution_count": 3,
   "metadata": {},
   "outputs": [],
   "source": [
    "k_fold = StratifiedKFold(n_splits=4)"
   ]
  },
  {
   "cell_type": "code",
   "execution_count": 4,
   "metadata": {},
   "outputs": [],
   "source": [
    "def processKFold(model, X, Y):\n",
    "    \n",
    "    scores = []\n",
    "    loss = []\n",
    "    \n",
    "    for train_indexes, test_indexes in k_fold.split(X,Y):\n",
    "\n",
    "        # maybe can be need normalize the data\n",
    "        #scaler = StandardScaler()\n",
    "\n",
    "        X_train, X_test = X[train_indexes], X[test_indexes]\n",
    "        Y_train, Y_test = Y[train_indexes], Y[test_indexes]\n",
    "\n",
    "        #X_train = scaler.fit_transform(X_train)\n",
    "        #X_test = scaler.transform(X_test)\n",
    "\n",
    "        model.fit(X_train, Y_train)\n",
    "\n",
    "        Y_pred = model.predict(X_test)\n",
    "        \n",
    "        scores.append(accuracy_score(Y_test, Y_pred))\n",
    "        loss.append(zero_one_loss(Y_test, Y_pred))\n",
    "        \n",
    "    return np.mean(scores), np.mean(loss)"
   ]
  },
  {
   "cell_type": "code",
   "execution_count": 5,
   "metadata": {},
   "outputs": [],
   "source": [
    "# Multilayer feedforward neural network\n",
    "\n",
    "# change number after\n",
    "def mlp30(X, Y):\n",
    "    \n",
    "    ppnML = MLPClassifier(hidden_layer_sizes=(30),activation=\"relu\",random_state=1)\n",
    "\n",
    "    return processKFold(ppnML, X, Y)"
   ]
  },
  {
   "cell_type": "code",
   "execution_count": 6,
   "metadata": {},
   "outputs": [],
   "source": [
    "# svm rbf and svm linear \n",
    "\n",
    "def svmRBF(X, Y):\n",
    "\n",
    "    svmRBF = svm.SVC(kernel='rbf')\n",
    "    \n",
    "    return processKFold(svmRBF, X, Y)"
   ]
  },
  {
   "cell_type": "code",
   "execution_count": 7,
   "metadata": {},
   "outputs": [],
   "source": [
    "def svmLinear(X, Y):\n",
    "\n",
    "    svmLinear = svm.SVC(kernel='linear')\n",
    "    \n",
    "    return processKFold(svmLinear, X, Y)"
   ]
  },
  {
   "cell_type": "code",
   "execution_count": 8,
   "metadata": {},
   "outputs": [
    {
     "name": "stdout",
     "output_type": "stream",
     "text": [
      "Mean acc mpl: (0.3236607142857143, 0.6763392857142857)\n"
     ]
    }
   ],
   "source": [
    "acc_mpl, loss_mpl = mlp30(X, Y)\n",
    "\n",
    "print(f\"MPL:\\nAcc: {acc_mpl}\\nLoss: {loss_mpl}\")"
   ]
  },
  {
   "cell_type": "code",
   "execution_count": 9,
   "metadata": {},
   "outputs": [
    {
     "name": "stdout",
     "output_type": "stream",
     "text": [
      "Mean acc svmRBF: (0.33816964285714285, 0.6618303571428571)\n"
     ]
    }
   ],
   "source": [
    "acc_svmRBF, loss_svmRBF = svmRBF(X, Y)\n",
    "\n",
    "print(f\"svmRBF:\\nAcc: {acc_svmRBF}\\nLoss: {loss_svmRBF}\")"
   ]
  },
  {
   "cell_type": "code",
   "execution_count": null,
   "metadata": {},
   "outputs": [],
   "source": [
    "acc_svmLinear, loss_svmLinear = svmLinear(X, Y)\n",
    "\n",
    "print(f\"svmLinear:\\nAcc: {acc_svmLinear}\\nLoss: {loss_svmLinear}\")"
   ]
  },
  {
   "cell_type": "code",
   "execution_count": null,
   "metadata": {},
   "outputs": [],
   "source": []
  }
 ],
 "metadata": {
  "kernelspec": {
   "display_name": "Python 3",
   "language": "python",
   "name": "python3"
  },
  "language_info": {
   "codemirror_mode": {
    "name": "ipython",
    "version": 3
   },
   "file_extension": ".py",
   "mimetype": "text/x-python",
   "name": "python",
   "nbconvert_exporter": "python",
   "pygments_lexer": "ipython3",
   "version": "3.8.3"
  }
 },
 "nbformat": 4,
 "nbformat_minor": 4
}
